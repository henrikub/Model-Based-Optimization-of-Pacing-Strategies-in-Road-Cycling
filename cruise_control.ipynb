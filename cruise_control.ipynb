{
 "cells": [
  {
   "cell_type": "code",
   "execution_count": null,
   "metadata": {},
   "outputs": [],
   "source": [
    "import numpy as np\n",
    "import control as ct\n",
    "import control.optimal as obc\n",
    "import matplotlib.pyplot as plt\n",
    "\n",
    "def vehicle_update(t, x, u, params):\n",
    "    # Get the parameters for the model\n",
    "    l = params.get('wheelbase', 3.)         # vehicle wheelbase\n",
    "    phimax = params.get('maxsteer', 0.5)    # max steering angle (rad)\n",
    "\n",
    "    # Saturate the steering input\n",
    "    phi = np.clip(u[1], -phimax, phimax)\n",
    "\n",
    "    # Return the derivative of the state\n",
    "    return np.array([\n",
    "        np.cos(x[2]) * u[0],            # xdot = cos(theta) v\n",
    "        np.sin(x[2]) * u[0],            # ydot = sin(theta) v\n",
    "        (u[0] / l) * np.tan(phi)        # thdot = v/l tan(phi)\n",
    "    ])\n",
    "\n",
    "def vehicle_output(t, x, u, params):\n",
    "    return x                            # return x, y, theta (full state)\n",
    "\n",
    "# Define the vehicle steering dynamics as an input/output system\n",
    "vehicle = ct.NonlinearIOSystem(\n",
    "    vehicle_update, vehicle_output, states=3, name='vehicle',\n",
    "    inputs=('v', 'phi'), outputs=('x', 'y', 'theta'))"
   ]
  },
  {
   "cell_type": "markdown",
   "metadata": {},
   "source": [
    "We consider an optimal control problem that consists of “changing lanes” by moving from the point x = 0 m, y = -2 m, \\theta = 0 to the point x = 100 m, y = 2 m, \\theta = 0) over a period of 10 seconds and with a with a starting and ending velocity of 10 m/s:"
   ]
  },
  {
   "cell_type": "code",
   "execution_count": null,
   "metadata": {},
   "outputs": [],
   "source": [
    "x0 = np.array([0., -2., 0.]); u0 = np.array([10., 0.])\n",
    "xf = np.array([100., 2., 0.]); uf = np.array([10., 0.])\n",
    "Tf = 10"
   ]
  },
  {
   "cell_type": "markdown",
   "metadata": {},
   "source": [
    "To set up the optimal control problem we design a cost function that penalizes the state and input using quadratic cost functions:"
   ]
  },
  {
   "cell_type": "code",
   "execution_count": null,
   "metadata": {},
   "outputs": [],
   "source": [
    "Q = np.diag([0, 0, 0.1])          # don't turn too sharply\n",
    "R = np.diag([1, 1])               # keep inputs small\n",
    "P = np.diag([1000, 1000, 1000])   # get close to final point\n",
    "traj_cost = obc.quadratic_cost(vehicle, Q, R, x0=xf, u0=uf)\n",
    "term_cost = obc.quadratic_cost(vehicle, P, 0, x0=xf)"
   ]
  },
  {
   "cell_type": "markdown",
   "metadata": {},
   "source": [
    "We also constraint the maximum turning rate to 0.1 radians (about 6 degees) and constrain the velocity to be in the range of 9 m/s to 11 m/s:"
   ]
  },
  {
   "cell_type": "code",
   "execution_count": null,
   "metadata": {},
   "outputs": [],
   "source": [
    "constraints = [ obc.input_range_constraint(vehicle, [8, -0.1], [12, 0.1]) ]"
   ]
  },
  {
   "cell_type": "markdown",
   "metadata": {},
   "source": [
    "Finally, we solve for the optimal inputs:"
   ]
  },
  {
   "cell_type": "code",
   "execution_count": null,
   "metadata": {},
   "outputs": [],
   "source": [
    "timepts = np.linspace(0, Tf, 10, endpoint=True)\n",
    "result = obc.solve_ocp(\n",
    "    vehicle, timepts, x0, traj_cost, constraints,\n",
    "    terminal_cost=term_cost, initial_guess=u0)"
   ]
  },
  {
   "cell_type": "markdown",
   "metadata": {},
   "source": [
    "Plotting the results:"
   ]
  },
  {
   "cell_type": "code",
   "execution_count": null,
   "metadata": {},
   "outputs": [],
   "source": [
    "# Simulate the system dynamics (open loop)\n",
    "resp = ct.input_output_response(\n",
    "    vehicle, timepts, result.inputs, x0,\n",
    "    t_eval=np.linspace(0, Tf, 100))\n",
    "t, y, u = resp.time, resp.outputs, resp.inputs\n",
    "\n",
    "plt.subplot(3, 1, 1)\n",
    "plt.plot(y[0], y[1])\n",
    "plt.plot(x0[0], x0[1], 'ro', xf[0], xf[1], 'ro')\n",
    "plt.xlabel(\"x [m]\")\n",
    "plt.ylabel(\"y [m]\")\n",
    "\n",
    "plt.subplot(3, 1, 2)\n",
    "plt.plot(t, u[0])\n",
    "plt.axis([0, 10, 9.9, 10.1])\n",
    "plt.xlabel(\"t [sec]\")\n",
    "plt.ylabel(\"u1 [m/s]\")\n",
    "\n",
    "plt.subplot(3, 1, 3)\n",
    "plt.plot(t, u[1])\n",
    "plt.axis([0, 10, -0.015, 0.015])\n",
    "plt.xlabel(\"t [sec]\")\n",
    "plt.ylabel(\"u2 [rad/s]\")\n",
    "\n",
    "plt.suptitle(\"Lane change manuever\")\n",
    "plt.tight_layout()\n",
    "plt.show()"
   ]
  }
 ],
 "metadata": {
  "kernelspec": {
   "display_name": "Python 3",
   "language": "python",
   "name": "python3"
  },
  "language_info": {
   "name": "python",
   "version": "3.11.4"
  }
 },
 "nbformat": 4,
 "nbformat_minor": 2
}
