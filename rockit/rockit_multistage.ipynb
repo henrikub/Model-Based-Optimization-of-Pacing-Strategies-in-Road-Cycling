{
 "cells": [
  {
   "cell_type": "code",
   "execution_count": 104,
   "metadata": {},
   "outputs": [],
   "source": [
    "import casadi as c\n",
    "from rockit import *\n",
    "import numpy as np\n",
    "import matplotlib.pyplot as plt"
   ]
  },
  {
   "cell_type": "code",
   "execution_count": 105,
   "metadata": {},
   "outputs": [],
   "source": [
    "# Hyperparams\n",
    "N1 = 10\n",
    "N2 = 10\n",
    "\n",
    "N = (N1, N2)\n",
    "dT1guess = 150              # Might need to change this\n",
    "dT2guess = 200\n",
    "T1guess = dT1guess\n",
    "T2guess = T1guess + dT2guess\n",
    "\n",
    "# Params\n",
    "mass_rider = 78\n",
    "mass_bike = 8\n",
    "m = mass_rider + mass_bike\n",
    "g = 9.81\n",
    "my = 0.004\n",
    "b0 = 0.091\n",
    "b1 = 0.0087\n",
    "Iw = 0.14\n",
    "r = 0.33\n",
    "Cd = 0.7\n",
    "rho = 1.2\n",
    "A = 0.4\n",
    "eta = 1\n",
    "w_prime = 26630\n",
    "cp = 265\n",
    "stage1_length= 1000\n",
    "slope1 = 0.0\n",
    "\n",
    "stage2_length= 1000\n",
    "slope2 = -0.0"
   ]
  },
  {
   "cell_type": "code",
   "execution_count": 106,
   "metadata": {},
   "outputs": [],
   "source": [
    "# Limits\n",
    "u_min = 0\n",
    "u_max = 500\n",
    "v_min = 0.5\n",
    "v_max = 30"
   ]
  },
  {
   "cell_type": "code",
   "execution_count": 107,
   "metadata": {},
   "outputs": [],
   "source": [
    "def sigmoid(x, x0, a):\n",
    "    return 1/(1 + np.power(np.e, (-(x-x0)/a)))"
   ]
  },
  {
   "cell_type": "code",
   "execution_count": 108,
   "metadata": {},
   "outputs": [],
   "source": [
    "def create_stage(ocp, t0, T, N, length, slope):\n",
    "    \"\"\"Create a rockit stage\n",
    "    \"\"\"\n",
    "    stage = ocp.stage(t0=t0, T=T)\n",
    "\n",
    "    p = stage.state()\n",
    "    v = stage.state()\n",
    "    w = stage.state()\n",
    "    u = stage.control()\n",
    "    \n",
    "    stage.set_der(p, v)\n",
    "    stage.set_der(v, 1/((v)*(m + Iw/r**2)) * (eta*u - m*g*v*slope - my*m*g*v - b0*v - b1*v**2 - 0.5*Cd*rho*A*v**3))\n",
    "    stage.set_der(w, -(u-cp))\n",
    "    #stage.set_der(w, -(u-cp)*(1-sigmoid(u, cp, 3)) + (1-w/w_prime)*(cp-u)*sigmoid(u, cp, 3))\n",
    "\n",
    "    stage.subject_to(stage.at_tf(p) == length)\n",
    "\n",
    "    stage.subject_to(0 <= (u <= 500))\n",
    "    stage.subject_to(0.5 <= (v <= 30))\n",
    "    stage.subject_to(0 <= (w <= w_prime))\n",
    "    #stage.subject_to(0 <= w)\n",
    "    #stage.subject_to(0 <= (ocp.T <= 400))\n",
    "\n",
    "    stage.set_initial(u, cp)\n",
    "    \n",
    "    stage.method(MultipleShooting(N=N, intg='rk'))\n",
    "    stage.add_objective(stage.T)\n",
    "\n",
    "    return stage, p, v, w "
   ]
  },
  {
   "cell_type": "code",
   "execution_count": 109,
   "metadata": {},
   "outputs": [],
   "source": [
    "def stitch_stages(ocp, stage1, stage2):\n",
    "    # Stitch time\n",
    "    ocp.subject_to(stage1.tf == stage2.t0)\n",
    "\n",
    "    # Stich states\n",
    "    for i in range(len(stage1.states)):\n",
    "        ocp.subject_to(stage2.at_t0(stage2.states[i]) == stage2.at_tf(stage2.states[i]))"
   ]
  },
  {
   "cell_type": "code",
   "execution_count": 110,
   "metadata": {},
   "outputs": [],
   "source": [
    "# Main - Setting up OCP\n",
    "ocp = Ocp()\n",
    "\n",
    "# Stage 1\n",
    "stage1, p1, v1, w1 = create_stage(ocp, FreeTime(0), FreeTime(T1guess), N1, stage1_length, slope1)\n",
    "\n",
    "ocp.subject_to(stage1.t0 == 0)\n",
    "ocp.subject_to(stage1.at_t0(p1) == 0)\n",
    "ocp.subject_to(stage1.at_t0(v1) == 1)\n",
    "ocp.subject_to(stage1.at_t0(w1) == w_prime)\n",
    "\n",
    "\n",
    "# Stage 2\n",
    "stage2, p2, v2, w2 = create_stage(ocp, FreeTime(T1guess), FreeTime(T2guess), N2, stage2_length, slope2)\n",
    "\n",
    "stitch_stages(ocp, stage1, stage2)\n",
    "\n",
    "# Terminal Conditions\n",
    "#ocp.subject_to(stage2.at_tf(p2) == stage1_length + stage2_length)"
   ]
  },
  {
   "cell_type": "code",
   "execution_count": 111,
   "metadata": {},
   "outputs": [],
   "source": [
    "# Solver options \n",
    "opts = {\"expand\": True,\n",
    "        \"verbose\": False,\n",
    "        \"print_time\": True,\n",
    "        \"error_on_fail\": True,\n",
    "        \"ipopt\": {\"linear_solver\": \"mumps\",  # \"ma57\" is faster!\n",
    "                  \"max_iter\": 5000,\n",
    "                  'print_level': 5,\n",
    "                  'sb': 'yes',  # Suppress IPOPT banner\n",
    "                  'tol': 1e-4,\n",
    "                  'hessian_approximation': 'limited-memory'\n",
    "                  }}\n",
    "ocp.solver(\"ipopt\", opts)\n",
    "\n",
    "sampler1 = stage1.sampler([p1, v1, w1])\n",
    "sampler2 = stage2.sampler([p2, v2, w2])\n",
    "samplers = (sampler1, sampler2)\n",
    "\n",
    "dT1 = ocp.value(stage1.T)\n",
    "dT2 = ocp.value(stage2.T)\n",
    "\n",
    "T1 = dT1\n",
    "T2 = T1 + dT2\n",
    "\n",
    "# Create a casadi function\n",
    "solve_ocp = ocp.to_function('solve_ocp', [ocp._method.opti.x], [T1, T2, ocp._method.opti.x, ocp.gist])"
   ]
  },
  {
   "cell_type": "code",
   "execution_count": 112,
   "metadata": {},
   "outputs": [
    {
     "name": "stdout",
     "output_type": "stream",
     "text": [
      "This is Ipopt version 3.14.11, running with linear solver MUMPS 5.4.1.\n",
      "\n",
      "Number of nonzeros in equality constraint Jacobian...:      329\n",
      "Number of nonzeros in inequality constraint Jacobian.:       68\n",
      "Number of nonzeros in Lagrangian Hessian.............:        0\n",
      "\n",
      "Error evaluating Jacobian of equality constraints at user provided starting point.\n",
      "  No scaling factors for equality constraints computed!\n",
      "Error evaluating Jacobian of inequality constraints at user provided starting point.\n",
      "  No scaling factors for inequality constraints computed!\n",
      "\n",
      "Number of Iterations....: 0\n",
      "\n",
      "Number of objective function evaluations             = 0\n",
      "Number of objective gradient evaluations             = 0\n",
      "Number of equality constraint evaluations            = 0\n",
      "Number of inequality constraint evaluations          = 1\n",
      "Number of equality constraint Jacobian evaluations   = 0\n",
      "Number of inequality constraint Jacobian evaluations = 0\n",
      "Number of Lagrangian Hessian evaluations             = 0\n",
      "Total seconds in IPOPT                               = 0.001\n",
      "\n",
      "EXIT: Invalid number in NLP function or derivative detected.\n"
     ]
    },
    {
     "name": "stderr",
     "output_type": "stream",
     "text": [
      "CasADi - 2024-02-15 15:48:30 WARNING(\"solver:nlp_jac_g failed: NaN detected for output jac_g_x, at nonzero index 3 (row 9, col 1).\") [.../casadi/core/oracle_function.cpp:377]\n",
      "CasADi - 2024-02-15 15:48:30 WARNING(\"solver:nlp_jac_g failed: NaN detected for output jac_g_x, at nonzero index 3 (row 9, col 1).\") [.../casadi/core/oracle_function.cpp:377]\n",
      "CasADi - 2024-02-15 15:48:30 WARNING(\"solver:nlp_g failed: NaN detected for output g, at (row 9, col 0).\") [.../casadi/core/oracle_function.cpp:377]\n",
      "Function solver (0x1b165b6a710)\n",
      "Input 0 (x0): [0, 0, 0, 0, 0, 0, 0, 0, 0, 0, 0, 0, 0, 0, 0, 0, 0, 0, 0, 0, 0, 0, 0, 0, 0, 0, 0, 0, 0, 0, 0, 0, 0, 0, 0, 0, 0, 0, 0, 0, 0, 0, 0, 0, 0, 0, 0, 0, 0, 0, 0, 0, 0, 0, 0, 0, 0, 0, 0, 0, 0, 0, 0, 0, 0, 0, 0, 0, 0, 0, 0, 0, 0, 0, 0, 0, 0, 0, 0, 0, 0, 0, 0, 0, 0, 0, 0, 0, 0, 0]\n",
      "Input 1 (p): 0x1\n",
      "Input 2 (lbx): [-inf, -inf, -inf, -inf, -inf, -inf, -inf, -inf, -inf, -inf, -inf, -inf, -inf, -inf, -inf, -inf, -inf, -inf, -inf, -inf, -inf, -inf, -inf, -inf, -inf, -inf, -inf, -inf, -inf, -inf, -inf, -inf, -inf, -inf, -inf, -inf, -inf, -inf, -inf, -inf, -inf, -inf, -inf, -inf, -inf, -inf, -inf, -inf, -inf, -inf, -inf, -inf, -inf, -inf, -inf, -inf, -inf, -inf, -inf, -inf, -inf, -inf, -inf, -inf, -inf, -inf, -inf, -inf, -inf, -inf, -inf, -inf, -inf, -inf, -inf, -inf, -inf, -inf, -inf, -inf, -inf, -inf, -inf, -inf, -inf, -inf, -inf, -inf, -inf, -inf]\n",
      "Input 3 (ubx): [inf, inf, inf, inf, inf, inf, inf, inf, inf, inf, inf, inf, inf, inf, inf, inf, inf, inf, inf, inf, inf, inf, inf, inf, inf, inf, inf, inf, inf, inf, inf, inf, inf, inf, inf, inf, inf, inf, inf, inf, inf, inf, inf, inf, inf, inf, inf, inf, inf, inf, inf, inf, inf, inf, inf, inf, inf, inf, inf, inf, inf, inf, inf, inf, inf, inf, inf, inf, inf, inf, inf, inf, inf, inf, inf, inf, inf, inf, inf, inf, inf, inf, inf, inf, inf, inf, inf, inf, inf, inf]\n",
      "Input 4 (lbg): [0, 0, 1, 26630, 0, 0, 0, 0, 0, 0, 0, 0, 0, 0.5, 0, 0, 0, 0, 0, 0.5, 0, 0, 0, 0, 0, 0.5, 0, 0, 0, 0, 0, 0.5, 0, 0, 0, 0, 0, 0.5, 0, 0, 0, 0, 0, 0.5, 0, 0, 0, 0, 0, 0.5, 0, 0, 0, 0, 0, 0.5, 0, 0, 0, 0, 0, 0.5, 0, 0, 0, 0, 0, 0.5, 0, 0, 0.5, 0, 1000, 0, 0, 0, 0, 0, 0.5, 0, 0, 0, 0, 0, 0.5, 0, 0, 0, 0, 0, 0.5, 0, 0, 0, 0, 0, 0.5, 0, 0, 0, 0, 0, 0.5, 0, 0, 0, 0, 0, 0.5, 0, 0, 0, 0, 0, 0.5, 0, 0, 0, 0, 0, 0.5, 0, 0, 0, 0, 0, 0.5, 0, 0, 0, 0, 0, 0.5, 0, 0, 0.5, 0, 1000]\n",
      "Input 5 (ubg): [0, 0, 1, 26630, 0, 0, 0, 0, inf, 0, 0, 0, 500, 30, 26630, 0, 0, 0, 500, 30, 26630, 0, 0, 0, 500, 30, 26630, 0, 0, 0, 500, 30, 26630, 0, 0, 0, 500, 30, 26630, 0, 0, 0, 500, 30, 26630, 0, 0, 0, 500, 30, 26630, 0, 0, 0, 500, 30, 26630, 0, 0, 0, 500, 30, 26630, 0, 0, 0, 500, 30, 26630, 500, 30, 26630, 1000, inf, 0, 0, 0, 500, 30, 26630, 0, 0, 0, 500, 30, 26630, 0, 0, 0, 500, 30, 26630, 0, 0, 0, 500, 30, 26630, 0, 0, 0, 500, 30, 26630, 0, 0, 0, 500, 30, 26630, 0, 0, 0, 500, 30, 26630, 0, 0, 0, 500, 30, 26630, 0, 0, 0, 500, 30, 26630, 0, 0, 0, 500, 30, 26630, 500, 30, 26630, 1000]\n",
      "Input 6 (lam_x0): [0, 0, 0, 0, 0, 0, 0, 0, 0, 0, 0, 0, 0, 0, 0, 0, 0, 0, 0, 0, 0, 0, 0, 0, 0, 0, 0, 0, 0, 0, 0, 0, 0, 0, 0, 0, 0, 0, 0, 0, 0, 0, 0, 0, 0, 0, 0, 0, 0, 0, 0, 0, 0, 0, 0, 0, 0, 0, 0, 0, 0, 0, 0, 0, 0, 0, 0, 0, 0, 0, 0, 0, 0, 0, 0, 0, 0, 0, 0, 0, 0, 0, 0, 0, 0, 0, 0, 0, 0, 0]\n",
      "Input 7 (lam_g0): [0, 0, 0, 0, 0, 0, 0, 0, 0, 0, 0, 0, 0, 0, 0, 0, 0, 0, 0, 0, 0, 0, 0, 0, 0, 0, 0, 0, 0, 0, 0, 0, 0, 0, 0, 0, 0, 0, 0, 0, 0, 0, 0, 0, 0, 0, 0, 0, 0, 0, 0, 0, 0, 0, 0, 0, 0, 0, 0, 0, 0, 0, 0, 0, 0, 0, 0, 0, 0, 0, 0, 0, 0, 0, 0, 0, 0, 0, 0, 0, 0, 0, 0, 0, 0, 0, 0, 0, 0, 0, 0, 0, 0, 0, 0, 0, 0, 0, 0, 0, 0, 0, 0, 0, 0, 0, 0, 0, 0, 0, 0, 0, 0, 0, 0, 0, 0, 0, 0, 0, 0, 0, 0, 0, 0, 0, 0, 0, 0, 0, 0, 0, 0, 0, 0, 0, 0, 0]\n"
     ]
    },
    {
     "ename": "RuntimeError",
     "evalue": "Error in Function::call for 'solve_ocp' [MXFunction] at .../casadi/core/function.cpp:330:\nError in Function::operator() for 'solver' [IpoptInterface] at .../casadi/core/function.cpp:1482:\n.../casadi/core/nlpsol.cpp:862: nlpsol process failed. Set 'error_on_fail' option to false to ignore this error.",
     "output_type": "error",
     "traceback": [
      "\u001b[1;31m---------------------------------------------------------------------------\u001b[0m",
      "\u001b[1;31mRuntimeError\u001b[0m                              Traceback (most recent call last)",
      "\u001b[1;32m~\\AppData\\Local\\Temp\\ipykernel_23416\\2651847838.py\u001b[0m in \u001b[0;36m?\u001b[1;34m()\u001b[0m\n\u001b[0;32m      1\u001b[0m \u001b[1;31m# Solve the OCP\u001b[0m\u001b[1;33m\u001b[0m\u001b[1;33m\u001b[0m\u001b[0m\n\u001b[0;32m      2\u001b[0m \u001b[0mprev_sol\u001b[0m \u001b[1;33m=\u001b[0m \u001b[1;36m0\u001b[0m\u001b[1;33m\u001b[0m\u001b[1;33m\u001b[0m\u001b[0m\n\u001b[1;32m----> 3\u001b[1;33m \u001b[0mT1\u001b[0m\u001b[1;33m,\u001b[0m \u001b[0mT2\u001b[0m\u001b[1;33m,\u001b[0m \u001b[0mprev_sol\u001b[0m\u001b[1;33m,\u001b[0m \u001b[0mgist\u001b[0m \u001b[1;33m=\u001b[0m \u001b[0msolve_ocp\u001b[0m\u001b[1;33m(\u001b[0m\u001b[0mprev_sol\u001b[0m\u001b[1;33m)\u001b[0m\u001b[1;33m\u001b[0m\u001b[1;33m\u001b[0m\u001b[0m\n\u001b[0m\u001b[0;32m      4\u001b[0m \u001b[1;31m# Solve again using previous solution\u001b[0m\u001b[1;33m\u001b[0m\u001b[1;33m\u001b[0m\u001b[0m\n\u001b[0;32m      5\u001b[0m \u001b[1;31m# T1, T2, prev_sol, gist = solve_ocp(prev_sol)\u001b[0m\u001b[1;33m\u001b[0m\u001b[1;33m\u001b[0m\u001b[0m\n",
      "\u001b[1;32mc:\\Users\\brokk\\AppData\\Local\\Programs\\Python\\Python311\\Lib\\site-packages\\casadi\\casadi.py\u001b[0m in \u001b[0;36m?\u001b[1;34m(self, *args, **kwargs)\u001b[0m\n\u001b[0;32m  23377\u001b[0m       \u001b[1;32mif\u001b[0m \u001b[0mlen\u001b[0m\u001b[1;33m(\u001b[0m\u001b[0margs\u001b[0m\u001b[1;33m)\u001b[0m\u001b[1;33m>\u001b[0m\u001b[1;36m0\u001b[0m \u001b[1;32mand\u001b[0m \u001b[0mlen\u001b[0m\u001b[1;33m(\u001b[0m\u001b[0mkwargs\u001b[0m\u001b[1;33m)\u001b[0m\u001b[1;33m>\u001b[0m\u001b[1;36m0\u001b[0m\u001b[1;33m:\u001b[0m\u001b[1;33m\u001b[0m\u001b[1;33m\u001b[0m\u001b[0m\n\u001b[0;32m  23378\u001b[0m         \u001b[1;32mraise\u001b[0m \u001b[0mSyntaxError\u001b[0m\u001b[1;33m(\u001b[0m\u001b[1;34m'Function evaluation requires all arguments to be named or none'\u001b[0m\u001b[1;33m)\u001b[0m\u001b[1;33m\u001b[0m\u001b[1;33m\u001b[0m\u001b[0m\n\u001b[0;32m  23379\u001b[0m       \u001b[1;32mif\u001b[0m \u001b[0mlen\u001b[0m\u001b[1;33m(\u001b[0m\u001b[0margs\u001b[0m\u001b[1;33m)\u001b[0m\u001b[1;33m>\u001b[0m\u001b[1;36m0\u001b[0m\u001b[1;33m:\u001b[0m\u001b[1;33m\u001b[0m\u001b[1;33m\u001b[0m\u001b[0m\n\u001b[0;32m  23380\u001b[0m     \u001b[1;31m# Ordered inputs -> return tuple\u001b[0m\u001b[1;33m\u001b[0m\u001b[1;33m\u001b[0m\u001b[0m\n\u001b[1;32m> 23381\u001b[1;33m         \u001b[0mret\u001b[0m \u001b[1;33m=\u001b[0m \u001b[0mself\u001b[0m\u001b[1;33m.\u001b[0m\u001b[0mcall\u001b[0m\u001b[1;33m(\u001b[0m\u001b[0margs\u001b[0m\u001b[1;33m)\u001b[0m\u001b[1;33m\u001b[0m\u001b[1;33m\u001b[0m\u001b[0m\n\u001b[0m\u001b[0;32m  23382\u001b[0m         \u001b[1;32mif\u001b[0m \u001b[0mlen\u001b[0m\u001b[1;33m(\u001b[0m\u001b[0mret\u001b[0m\u001b[1;33m)\u001b[0m\u001b[1;33m==\u001b[0m\u001b[1;36m0\u001b[0m\u001b[1;33m:\u001b[0m\u001b[1;33m\u001b[0m\u001b[1;33m\u001b[0m\u001b[0m\n\u001b[0;32m  23383\u001b[0m           \u001b[1;32mreturn\u001b[0m \u001b[1;32mNone\u001b[0m\u001b[1;33m\u001b[0m\u001b[1;33m\u001b[0m\u001b[0m\n\u001b[0;32m  23384\u001b[0m         \u001b[1;32melif\u001b[0m \u001b[0mlen\u001b[0m\u001b[1;33m(\u001b[0m\u001b[0mret\u001b[0m\u001b[1;33m)\u001b[0m\u001b[1;33m==\u001b[0m\u001b[1;36m1\u001b[0m\u001b[1;33m:\u001b[0m\u001b[1;33m\u001b[0m\u001b[1;33m\u001b[0m\u001b[0m\n",
      "\u001b[1;32mc:\\Users\\brokk\\AppData\\Local\\Programs\\Python\\Python311\\Lib\\site-packages\\casadi\\casadi.py\u001b[0m in \u001b[0;36m?\u001b[1;34m(self, *args)\u001b[0m\n\u001b[0;32m  20035\u001b[0m \u001b[1;33m\u001b[0m\u001b[0m\n\u001b[0;32m  20036\u001b[0m \u001b[1;33m\u001b[0m\u001b[0m\n\u001b[0;32m  20037\u001b[0m \u001b[1;33m\u001b[0m\u001b[0m\n\u001b[0;32m  20038\u001b[0m         \"\"\"\n\u001b[1;32m> 20039\u001b[1;33m         \u001b[1;32mreturn\u001b[0m \u001b[0m_casadi\u001b[0m\u001b[1;33m.\u001b[0m\u001b[0mFunction_call\u001b[0m\u001b[1;33m(\u001b[0m\u001b[0mself\u001b[0m\u001b[1;33m,\u001b[0m \u001b[1;33m*\u001b[0m\u001b[0margs\u001b[0m\u001b[1;33m)\u001b[0m\u001b[1;33m\u001b[0m\u001b[1;33m\u001b[0m\u001b[0m\n\u001b[0m",
      "\u001b[1;31mRuntimeError\u001b[0m: Error in Function::call for 'solve_ocp' [MXFunction] at .../casadi/core/function.cpp:330:\nError in Function::operator() for 'solver' [IpoptInterface] at .../casadi/core/function.cpp:1482:\n.../casadi/core/nlpsol.cpp:862: nlpsol process failed. Set 'error_on_fail' option to false to ignore this error."
     ]
    }
   ],
   "source": [
    "# Solve the OCP\n",
    "prev_sol = 0\n",
    "T1, T2, prev_sol, gist = solve_ocp(prev_sol)\n",
    "# Solve again using previous solution\n",
    "# T1, T2, prev_sol, gist = solve_ocp(prev_sol)"
   ]
  }
 ],
 "metadata": {
  "kernelspec": {
   "display_name": "Python 3",
   "language": "python",
   "name": "python3"
  },
  "language_info": {
   "codemirror_mode": {
    "name": "ipython",
    "version": 3
   },
   "file_extension": ".py",
   "mimetype": "text/x-python",
   "name": "python",
   "nbconvert_exporter": "python",
   "pygments_lexer": "ipython3",
   "version": "3.11.5"
  }
 },
 "nbformat": 4,
 "nbformat_minor": 2
}
