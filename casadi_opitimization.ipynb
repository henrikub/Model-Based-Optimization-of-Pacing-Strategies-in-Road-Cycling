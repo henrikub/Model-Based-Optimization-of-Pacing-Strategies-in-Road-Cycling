{
 "cells": [
  {
   "cell_type": "code",
   "execution_count": 34,
   "metadata": {},
   "outputs": [],
   "source": [
    "from casadi import *"
   ]
  },
  {
   "cell_type": "code",
   "execution_count": 35,
   "metadata": {},
   "outputs": [],
   "source": [
    "# Set up the problem\n",
    "N = 100 # number of control intervals\n",
    "opti = Opti() # optimization problem\n",
    "\n",
    "# Declare the decision variables\n",
    "X = opti.variable(2, N+1) # State trajectory\n",
    "pos = X[0,:]\n",
    "speed = X[1,:]\n",
    "U = opti.variable(1,N) # control trajectory (power) \n",
    "T = opti.variable() # final time"
   ]
  },
  {
   "cell_type": "code",
   "execution_count": 36,
   "metadata": {},
   "outputs": [],
   "source": [
    "# Parameters:\n",
    "mass_rider = 78\n",
    "mass_bike = 8\n",
    "m = opti.parameter()\n",
    "opti.set_value(m, mass_rider + mass_bike)\n",
    "g = 9.81\n",
    "my = 0.004\n",
    "b0 = 0.091\n",
    "b1 = 0.0087\n",
    "Iw = 0.14\n",
    "r = 0.33\n",
    "Cd = 0.7\n",
    "rho = 1.2\n",
    "A = 0.4\n",
    "eta = 1\n",
    "w_prime = 26630\n",
    "cp = 265"
   ]
  },
  {
   "cell_type": "code",
   "execution_count": 37,
   "metadata": {},
   "outputs": [],
   "source": [
    "# Set up the objective\n",
    "opti.minimize(T) # race in minimal time\n",
    "\n",
    "# System dynamics (excluding slope/gravity effect)\n",
    "f = lambda x,u: vertcat(x[1], 1/x[1] * 1/(m + Iw/r**2) * (eta*u - my*m*g*x[1] - b0*x[1] - b1*x[1]**2 - 0.5*Cd*rho*A*x[1]**3)) # dx/dt = f(x,u)"
   ]
  },
  {
   "cell_type": "code",
   "execution_count": 38,
   "metadata": {},
   "outputs": [],
   "source": [
    "dt = T/N # Control interval\n",
    "for k in range(N): # Loop over control intervals\n",
    "    k1 = f(X[:,k], U[:,k])\n",
    "    k2 = f(X[:,k] + dt/2*k1, U[:,k])\n",
    "    k3 = f(X[:,k] + dt/2*k2, U[:,k])\n",
    "    k4 = f(X[:,k] + dt*k3, U[:,k])\n",
    "    x_next = X[:,k] + dt/6*(k1+2*k2+2*k3+k4)\n",
    "    opti.subject_to(X[:,k+1] == x_next)"
   ]
  },
  {
   "cell_type": "code",
   "execution_count": 39,
   "metadata": {},
   "outputs": [],
   "source": [
    "# Set the path constraints\n",
    "# for k in range(N): # Loop over positions\n",
    "#     opti.subject_to(opti.bounded(0,pos[k],1000))\n",
    "\n",
    "#opti.subject_to(opti.bounded(0,pos,1000))\n",
    "# opti.subject_to(speed <= limit(pos)) # track speed limit\n",
    "opti.subject_to(opti.bounded(1,U,500)) # control is limited"
   ]
  },
  {
   "cell_type": "code",
   "execution_count": 40,
   "metadata": {},
   "outputs": [],
   "source": [
    "# Set boundary conditions\n",
    "opti.subject_to(pos[0]==0) # start at position 0\n",
    "#opti.subject_to(speed[0]==0.1) \n",
    "opti.subject_to(pos[-1]==1000)\n",
    "\n",
    "opti.subject_to(speed > 0)\n",
    "\n",
    "# One extra constraint\n",
    "opti.subject_to(T>=0) # time must be positive"
   ]
  },
  {
   "cell_type": "code",
   "execution_count": 41,
   "metadata": {},
   "outputs": [],
   "source": [
    "# Provide an initial guess for the solver\n",
    "#opti.set_initial(T, 300)\n",
    "#opti.set_initial(U, 300)"
   ]
  },
  {
   "cell_type": "code",
   "execution_count": 42,
   "metadata": {},
   "outputs": [
    {
     "data": {
      "text/plain": [
       "Opti(Opti {\n",
       "  instance #3\n",
       "  #variables: 3 (nx = 303)\n",
       "  #parameters: 1 (np = 1)\n",
       "  #constraints: 105 (ng = 404)\n",
       "  CasADi solver needs updating.\n",
       "})"
      ]
     },
     "execution_count": 42,
     "metadata": {},
     "output_type": "execute_result"
    }
   ],
   "source": [
    "opti"
   ]
  },
  {
   "cell_type": "code",
   "execution_count": 43,
   "metadata": {},
   "outputs": [
    {
     "name": "stdout",
     "output_type": "stream",
     "text": [
      "This is Ipopt version 3.14.11, running with linear solver MUMPS 5.4.1.\n",
      "\n",
      "Number of nonzeros in equality constraint Jacobian...:      902\n",
      "Number of nonzeros in inequality constraint Jacobian.:      202\n",
      "Number of nonzeros in Lagrangian Hessian.............:      501\n",
      "\n",
      "Error evaluating Jacobian of equality constraints at user provided starting point.\n",
      "  No scaling factors for equality constraints computed!\n",
      "Error evaluating Jacobian of inequality constraints at user provided starting point.\n",
      "  No scaling factors for inequality constraints computed!\n",
      "\n",
      "Number of Iterations....: 0\n",
      "\n",
      "Number of objective function evaluations             = 0\n",
      "Number of objective gradient evaluations             = 0\n",
      "Number of equality constraint evaluations            = 0\n",
      "Number of inequality constraint evaluations          = 1\n",
      "Number of equality constraint Jacobian evaluations   = 0\n",
      "Number of inequality constraint Jacobian evaluations = 0\n",
      "Number of Lagrangian Hessian evaluations             = 0\n",
      "Total seconds in IPOPT                               = 0.014\n",
      "\n",
      "EXIT: Invalid number in NLP function or derivative detected.\n",
      "      solver  :   t_proc      (avg)   t_wall      (avg)    n_eval\n",
      "       nlp_g  |   1.00ms (  1.00ms) 797.00us (797.00us)         1\n",
      "  nlp_grad_f  |        0 (       0)  10.00us ( 10.00us)         1\n",
      "   nlp_jac_g  |  13.00ms (  6.50ms)  12.82ms (  6.41ms)         2\n",
      "       total  |  26.00ms ( 26.00ms)  17.52ms ( 17.52ms)         1\n"
     ]
    },
    {
     "name": "stderr",
     "output_type": "stream",
     "text": [
      "CasADi - 2024-02-08 13:35:21 WARNING(\"solver:nlp_jac_g failed: NaN detected for output jac_g_x, at nonzero index 2 (row 0, col 1).\") [.../casadi/core/oracle_function.cpp:377]\n",
      "CasADi - 2024-02-08 13:35:21 WARNING(\"solver:nlp_jac_g failed: NaN detected for output jac_g_x, at nonzero index 2 (row 0, col 1).\") [.../casadi/core/oracle_function.cpp:377]\n",
      "CasADi - 2024-02-08 13:35:21 WARNING(\"solver:nlp_g failed: NaN detected for output g, at (row 0, col 0).\") [.../casadi/core/oracle_function.cpp:377]\n",
      "CasADi - 2024-02-08 13:35:21 WARNING(\"solver:nlp_grad failed: NaN detected for output grad_gamma_p, at (row 0, col 0).\") [.../casadi/core/oracle_function.cpp:377]\n",
      "CasADi - 2024-02-08 13:35:21 WARNING(\"Failed to calculate multipliers\") [.../casadi/core/nlpsol.cpp:798]\n"
     ]
    },
    {
     "ename": "RuntimeError",
     "evalue": "Error in Opti::solve [OptiNode] at .../casadi/core/optistack.cpp:157:\n.../casadi/core/optistack_internal.cpp:996: Assertion \"return_success(accept_limit)\" failed:\nSolver failed. You may use opti.debug.value to investigate the latest values of variables. return_status is 'Invalid_Number_Detected'",
     "output_type": "error",
     "traceback": [
      "\u001b[1;31m---------------------------------------------------------------------------\u001b[0m",
      "\u001b[1;31mRuntimeError\u001b[0m                              Traceback (most recent call last)",
      "\u001b[1;32m~\\AppData\\Local\\Temp\\ipykernel_21524\\2465724570.py\u001b[0m in \u001b[0;36m?\u001b[1;34m()\u001b[0m\n\u001b[0;32m      1\u001b[0m \u001b[0mopti\u001b[0m\u001b[1;33m.\u001b[0m\u001b[0msolver\u001b[0m\u001b[1;33m(\u001b[0m\u001b[1;34m'ipopt'\u001b[0m\u001b[1;33m)\u001b[0m \u001b[1;31m# set numerical backend\u001b[0m\u001b[1;33m\u001b[0m\u001b[1;33m\u001b[0m\u001b[0m\n\u001b[1;32m----> 2\u001b[1;33m \u001b[0msol\u001b[0m \u001b[1;33m=\u001b[0m \u001b[0mopti\u001b[0m\u001b[1;33m.\u001b[0m\u001b[0msolve\u001b[0m\u001b[1;33m(\u001b[0m\u001b[1;33m)\u001b[0m \u001b[1;31m# actual solve\u001b[0m\u001b[1;33m\u001b[0m\u001b[1;33m\u001b[0m\u001b[0m\n\u001b[0m",
      "\u001b[1;32mc:\\Users\\brokk\\AppData\\Local\\Programs\\Python\\Python311\\Lib\\site-packages\\casadi\\casadi.py\u001b[0m in \u001b[0;36m?\u001b[1;34m(self, *args)\u001b[0m\n\u001b[0;32m  47856\u001b[0m \u001b[1;33m\u001b[0m\u001b[0m\n\u001b[0;32m  47857\u001b[0m \u001b[1;33m\u001b[0m\u001b[0m\n\u001b[0;32m  47858\u001b[0m \u001b[1;33m\u001b[0m\u001b[0m\n\u001b[0;32m  47859\u001b[0m         \"\"\"\n\u001b[1;32m> 47860\u001b[1;33m         \u001b[1;32mreturn\u001b[0m \u001b[0m_casadi\u001b[0m\u001b[1;33m.\u001b[0m\u001b[0mOpti_solve\u001b[0m\u001b[1;33m(\u001b[0m\u001b[0mself\u001b[0m\u001b[1;33m,\u001b[0m \u001b[1;33m*\u001b[0m\u001b[0margs\u001b[0m\u001b[1;33m)\u001b[0m\u001b[1;33m\u001b[0m\u001b[1;33m\u001b[0m\u001b[0m\n\u001b[0m",
      "\u001b[1;31mRuntimeError\u001b[0m: Error in Opti::solve [OptiNode] at .../casadi/core/optistack.cpp:157:\n.../casadi/core/optistack_internal.cpp:996: Assertion \"return_success(accept_limit)\" failed:\nSolver failed. You may use opti.debug.value to investigate the latest values of variables. return_status is 'Invalid_Number_Detected'"
     ]
    }
   ],
   "source": [
    "opti.solver('ipopt') # set numerical backend\n",
    "sol = opti.solve() # actual solve"
   ]
  },
  {
   "cell_type": "code",
   "execution_count": null,
   "metadata": {},
   "outputs": [],
   "source": [
    "opti.debug.g_describe(1)"
   ]
  },
  {
   "cell_type": "code",
   "execution_count": null,
   "metadata": {},
   "outputs": [],
   "source": [
    "opti.debug.x_describe(1)"
   ]
  },
  {
   "cell_type": "code",
   "execution_count": null,
   "metadata": {},
   "outputs": [],
   "source": [
    "opti.debug.show_infeasibilities"
   ]
  }
 ],
 "metadata": {
  "kernelspec": {
   "display_name": "Python 3",
   "language": "python",
   "name": "python3"
  },
  "language_info": {
   "codemirror_mode": {
    "name": "ipython",
    "version": 3
   },
   "file_extension": ".py",
   "mimetype": "text/x-python",
   "name": "python",
   "nbconvert_exporter": "python",
   "pygments_lexer": "ipython3",
   "version": "3.11.4"
  }
 },
 "nbformat": 4,
 "nbformat_minor": 2
}
