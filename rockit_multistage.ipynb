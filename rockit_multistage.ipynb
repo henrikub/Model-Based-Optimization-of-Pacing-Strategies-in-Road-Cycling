{
 "cells": [
  {
   "cell_type": "code",
   "execution_count": 1,
   "metadata": {},
   "outputs": [],
   "source": [
    "import casadi as c\n",
    "import rockit as r\n",
    "import matplotlib.pyplot as plt"
   ]
  },
  {
   "cell_type": "code",
   "execution_count": null,
   "metadata": {},
   "outputs": [],
   "source": [
    "# Hyperparams\n",
    "N1 = 10\n",
    "N2 = 10\n",
    "\n",
    "N = (N1, N2)\n",
    "dT1guess = 1\n",
    "dT2guess = 0.4\n",
    "T1guess = dT1guess\n",
    "\n",
    "# Params\n",
    "mass_rider = 78\n",
    "mass_bike = 8\n",
    "m = mass_rider + mass_bike\n",
    "g = 9.81\n",
    "my = 0.004\n",
    "b0 = 0.091\n",
    "b1 = 0.0087\n",
    "Iw = 0.14\n",
    "r = 0.33\n",
    "Cd = 0.7\n",
    "rho = 1.2\n",
    "A = 0.4\n",
    "eta = 1\n",
    "w_prime = 26630\n",
    "cp = 265\n",
    "stage1_length= 1000\n",
    "s1 = 0.05\n",
    "\n",
    "stage2_length= 1000\n",
    "s1 = -0.05"
   ]
  },
  {
   "cell_type": "code",
   "execution_count": null,
   "metadata": {},
   "outputs": [],
   "source": [
    "# Limits\n",
    "u_min = 0\n",
    "u_max = 500\n",
    "v_min = 0.5\n",
    "v_max = 30"
   ]
  },
  {
   "cell_type": "code",
   "execution_count": null,
   "metadata": {},
   "outputs": [],
   "source": [
    "def create_stage(ocp, t0, T, N):\n",
    "    \"\"\"Create a rockit stage\n",
    "    \"\"\"\n",
    "    stage = ocp.stage(t0=0, T=T)\n",
    "\n",
    "    x1 = ocp.state()\n",
    "    x2 = ocp.state()\n",
    "    x3 = ocp.state()"
   ]
  }
 ],
 "metadata": {
  "kernelspec": {
   "display_name": "Python 3",
   "language": "python",
   "name": "python3"
  },
  "language_info": {
   "codemirror_mode": {
    "name": "ipython",
    "version": 3
   },
   "file_extension": ".py",
   "mimetype": "text/x-python",
   "name": "python",
   "nbconvert_exporter": "python",
   "pygments_lexer": "ipython3",
   "version": "3.11.5"
  }
 },
 "nbformat": 4,
 "nbformat_minor": 2
}
