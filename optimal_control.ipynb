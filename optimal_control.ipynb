{
 "cells": [
  {
   "cell_type": "code",
   "execution_count": 1,
   "metadata": {},
   "outputs": [],
   "source": [
    "from activity_reader import *\n",
    "import matplotlib.pyplot as plt\n",
    "from scipy.ndimage import gaussian_filter1d\n",
    "import numpy as np"
   ]
  },
  {
   "cell_type": "code",
   "execution_count": 2,
   "metadata": {},
   "outputs": [],
   "source": [
    "def calculate_gradient(distance, elevation):\n",
    "    gradient = []\n",
    "    for i in range(len(distance)-1):\n",
    "        delta_elevation = elevation[i] - elevation[i+1]\n",
    "        delta_distance = distance[i] - distance[i+1]\n",
    "        if delta_distance != 0:\n",
    "            gradient.append(delta_elevation/delta_distance)\n",
    "        else:\n",
    "            gradient.append(0)\n",
    "    gradient.append(0)\n",
    "    return gradient"
   ]
  },
  {
   "cell_type": "code",
   "execution_count": 3,
   "metadata": {},
   "outputs": [],
   "source": [
    "# Simplified track to optimize over\n",
    "distance = np.arange(0,100)\n",
    "slope = np.array([0]*100)"
   ]
  },
  {
   "cell_type": "code",
   "execution_count": 4,
   "metadata": {},
   "outputs": [],
   "source": [
    "import numpy as np\n",
    "import control as ct \n",
    "import control.optimal as obc\n",
    "import matplotlib.pyplot as plt\n",
    "\n",
    "\n",
    "def bicycle_update(t, x, u, params={}):\n",
    "    \"\"\"Bicycle dynamics for control system.\n",
    "    \n",
    "    Parameters\n",
    "    ----------\n",
    "    x : array\n",
    "            System state: [position, velocity, remaining anaerobic capacity]\n",
    "    u : array\n",
    "            System input: [power]\n",
    "\n",
    "    Returns\n",
    "    ----------\n",
    "    array:\n",
    "        [velocity, acceleration, change in anaerobic capacity] \n",
    "    \"\"\"\n",
    "    \n",
    "\n",
    "    # System parameters\n",
    "    m = params.get('m', 85)\n",
    "    g = params.get('g', 9.81)\n",
    "    my = params.get('my', 0.004)\n",
    "    b0 = params.get('b0', 0.091)\n",
    "    b1 = params.get('b1', 0.0087)\n",
    "    Iw = params.get('Iw', 0.14)\n",
    "    r = params.get('r', 0.33)\n",
    "    Cd = params.get('Cd', 0.7)\n",
    "    rho = params.get('rho', 1.2)\n",
    "    A = params.get('A', 0.4)\n",
    "    eta = params.get('eta', 1)\n",
    "    slope = params.get('slope', np.array([0]*1000))\n",
    "    w_prime = params.get('w_prime', 26630)\n",
    "    cp = params.get('cp', 265)\n",
    "\n",
    "    # Variables for states and input\n",
    "    v = x[1]\n",
    "    w_bal = x[2]\n",
    "    power = u[0]\n",
    "    dw_bal = 0\n",
    "    if power < cp:\n",
    "        dw_bal = (1-w_bal/w_prime)*(cp-power)\n",
    "    else:\n",
    "        dw_bal = -(power - cp)\n",
    "\n",
    "\n",
    "    dv = 1/v * 1/(m + Iw/r**2) * (eta*power - m*g*v*slope[int(t)] - my*m*g*v - b0*v - b1*v**2 - 0.5*Cd*rho*A*v**3)\n",
    "    \n",
    "    return np.array([v, dv, dw_bal])\n",
    "\n",
    "def bicycle_output(t, x, u, params):\n",
    "    return x\n",
    "\n",
    "bicycle_system = ct.NonlinearIOSystem(bicycle_update, bicycle_output, states=3, name='bicycle', inputs=('u'), outputs=('p', 'v', 'w'))"
   ]
  },
  {
   "cell_type": "code",
   "execution_count": 5,
   "metadata": {},
   "outputs": [
    {
     "name": "stderr",
     "output_type": "stream",
     "text": [
      "C:\\Users\\brokk\\AppData\\Local\\Temp\\ipykernel_4232\\3132609527.py:51: RuntimeWarning: divide by zero encountered in scalar divide\n",
      "  dv = 1/v * 1/(m + Iw/r**2) * (eta*power - m*g*v*slope[int(t)] - my*m*g*v - b0*v - b1*v**2 - 0.5*Cd*rho*A*v**3)\n",
      "C:\\Users\\brokk\\AppData\\Local\\Temp\\ipykernel_4232\\3132609527.py:51: RuntimeWarning: invalid value encountered in scalar multiply\n",
      "  dv = 1/v * 1/(m + Iw/r**2) * (eta*power - m*g*v*slope[int(t)] - my*m*g*v - b0*v - b1*v**2 - 0.5*Cd*rho*A*v**3)\n"
     ]
    },
    {
     "ename": "RuntimeError",
     "evalue": "solve_ivp failed: Required step size is less than spacing between numbers.",
     "output_type": "error",
     "traceback": [
      "\u001b[1;31m---------------------------------------------------------------------------\u001b[0m",
      "\u001b[1;31mRuntimeError\u001b[0m                              Traceback (most recent call last)",
      "Cell \u001b[1;32mIn[5], line 31\u001b[0m\n\u001b[0;32m     27\u001b[0m ivp_kwargs \u001b[38;5;241m=\u001b[39m {\u001b[38;5;124m'\u001b[39m\u001b[38;5;124margs\u001b[39m\u001b[38;5;124m'\u001b[39m: {\u001b[38;5;124m'\u001b[39m\u001b[38;5;124mparams\u001b[39m\u001b[38;5;124m'\u001b[39m: params}}\n\u001b[0;32m     28\u001b[0m minimize_options \u001b[38;5;241m=\u001b[39m {\u001b[38;5;124m'\u001b[39m\u001b[38;5;124mtolerance\u001b[39m\u001b[38;5;124m'\u001b[39m: \u001b[38;5;241m0.01\u001b[39m}\n\u001b[1;32m---> 31\u001b[0m ocp \u001b[38;5;241m=\u001b[39m \u001b[43mobc\u001b[49m\u001b[38;5;241;43m.\u001b[39;49m\u001b[43mOptimalControlProblem\u001b[49m\u001b[43m(\u001b[49m\u001b[43mbicycle_system\u001b[49m\u001b[43m,\u001b[49m\u001b[43m \u001b[49m\u001b[43mt\u001b[49m\u001b[43m,\u001b[49m\u001b[43m \u001b[49m\u001b[43mintegral_cost\u001b[49m\u001b[38;5;241;43m=\u001b[39;49m\u001b[43mcost_function\u001b[49m\u001b[43m,\u001b[49m\u001b[43m \u001b[49m\u001b[43minitial_guess\u001b[49m\u001b[38;5;241;43m=\u001b[39;49m\u001b[43minitial_guess\u001b[49m\u001b[43m,\u001b[49m\u001b[43m \u001b[49m\u001b[43mminimize_options\u001b[49m\u001b[38;5;241;43m=\u001b[39;49m\u001b[43mminimize_options\u001b[49m\u001b[43m)\u001b[49m\n",
      "File \u001b[1;32mc:\\Users\\brokk\\AppData\\Local\\Programs\\Python\\Python311\\Lib\\site-packages\\control\\optimal.py:273\u001b[0m, in \u001b[0;36mOptimalControlProblem.__init__\u001b[1;34m(self, sys, timepts, integral_cost, trajectory_constraints, terminal_cost, terminal_constraints, initial_guess, trajectory_method, basis, log, kwargs_check, **kwargs)\u001b[0m\n\u001b[0;32m    270\u001b[0m \u001b[38;5;28mself\u001b[39m\u001b[38;5;241m.\u001b[39m_reset_statistics(log)\n\u001b[0;32m    272\u001b[0m \u001b[38;5;66;03m# Process the initial guess\u001b[39;00m\n\u001b[1;32m--> 273\u001b[0m \u001b[38;5;28mself\u001b[39m\u001b[38;5;241m.\u001b[39minitial_guess \u001b[38;5;241m=\u001b[39m \u001b[38;5;28;43mself\u001b[39;49m\u001b[38;5;241;43m.\u001b[39;49m\u001b[43m_process_initial_guess\u001b[49m\u001b[43m(\u001b[49m\u001b[43minitial_guess\u001b[49m\u001b[43m)\u001b[49m\n\u001b[0;32m    275\u001b[0m \u001b[38;5;66;03m# Store states, input (used later to minimize re-computation)\u001b[39;00m\n\u001b[0;32m    276\u001b[0m \u001b[38;5;28mself\u001b[39m\u001b[38;5;241m.\u001b[39mlast_x \u001b[38;5;241m=\u001b[39m np\u001b[38;5;241m.\u001b[39mfull(\u001b[38;5;28mself\u001b[39m\u001b[38;5;241m.\u001b[39msystem\u001b[38;5;241m.\u001b[39mnstates, np\u001b[38;5;241m.\u001b[39mnan)\n",
      "File \u001b[1;32mc:\\Users\\brokk\\AppData\\Local\\Programs\\Python\\Python311\\Lib\\site-packages\\control\\optimal.py:571\u001b[0m, in \u001b[0;36mOptimalControlProblem._process_initial_guess\u001b[1;34m(self, initial_guess)\u001b[0m\n\u001b[0;32m    569\u001b[0m     \u001b[38;5;28;01melse\u001b[39;00m:\n\u001b[0;32m    570\u001b[0m         inputs \u001b[38;5;241m=\u001b[39m input_guess\u001b[38;5;241m.\u001b[39mreshape(\u001b[38;5;28mself\u001b[39m\u001b[38;5;241m.\u001b[39msystem\u001b[38;5;241m.\u001b[39mninputs, \u001b[38;5;241m-\u001b[39m\u001b[38;5;241m1\u001b[39m)\n\u001b[1;32m--> 571\u001b[0m     state_guess \u001b[38;5;241m=\u001b[39m \u001b[38;5;28;43mself\u001b[39;49m\u001b[38;5;241;43m.\u001b[39;49m\u001b[43m_simulate_states\u001b[49m\u001b[43m(\u001b[49m\n\u001b[0;32m    572\u001b[0m \u001b[43m        \u001b[49m\u001b[43mnp\u001b[49m\u001b[38;5;241;43m.\u001b[39;49m\u001b[43mzeros\u001b[49m\u001b[43m(\u001b[49m\u001b[38;5;28;43mself\u001b[39;49m\u001b[38;5;241;43m.\u001b[39;49m\u001b[43msystem\u001b[49m\u001b[38;5;241;43m.\u001b[39;49m\u001b[43mnstates\u001b[49m\u001b[43m)\u001b[49m\u001b[43m,\u001b[49m\u001b[43m \u001b[49m\u001b[43minputs\u001b[49m\u001b[43m)\u001b[49m\n\u001b[0;32m    573\u001b[0m \u001b[38;5;28;01melse\u001b[39;00m:\n\u001b[0;32m    574\u001b[0m     state_guess \u001b[38;5;241m=\u001b[39m \u001b[38;5;28mself\u001b[39m\u001b[38;5;241m.\u001b[39m_broadcast_initial_guess(\n\u001b[0;32m    575\u001b[0m         state_guess, (\u001b[38;5;28mself\u001b[39m\u001b[38;5;241m.\u001b[39msystem\u001b[38;5;241m.\u001b[39mnstates, \u001b[38;5;28mself\u001b[39m\u001b[38;5;241m.\u001b[39mtimepts\u001b[38;5;241m.\u001b[39msize))\n",
      "File \u001b[1;32mc:\\Users\\brokk\\AppData\\Local\\Programs\\Python\\Python311\\Lib\\site-packages\\control\\optimal.py:733\u001b[0m, in \u001b[0;36mOptimalControlProblem._simulate_states\u001b[1;34m(self, x0, inputs)\u001b[0m\n\u001b[0;32m    730\u001b[0m     logging\u001b[38;5;241m.\u001b[39mdebug(\u001b[38;5;124m\"\u001b[39m\u001b[38;5;124minput =\u001b[39m\u001b[38;5;130;01m\\n\u001b[39;00m\u001b[38;5;124m\"\u001b[39m \u001b[38;5;241m+\u001b[39m \u001b[38;5;28mstr\u001b[39m(inputs))\n\u001b[0;32m    732\u001b[0m \u001b[38;5;66;03m# Simulate the system to get the state\u001b[39;00m\n\u001b[1;32m--> 733\u001b[0m _, _, states \u001b[38;5;241m=\u001b[39m \u001b[43mct\u001b[49m\u001b[38;5;241;43m.\u001b[39;49m\u001b[43minput_output_response\u001b[49m\u001b[43m(\u001b[49m\n\u001b[0;32m    734\u001b[0m \u001b[43m    \u001b[49m\u001b[38;5;28;43mself\u001b[39;49m\u001b[38;5;241;43m.\u001b[39;49m\u001b[43msystem\u001b[49m\u001b[43m,\u001b[49m\u001b[43m \u001b[49m\u001b[38;5;28;43mself\u001b[39;49m\u001b[38;5;241;43m.\u001b[39;49m\u001b[43mtimepts\u001b[49m\u001b[43m,\u001b[49m\u001b[43m \u001b[49m\u001b[43minputs\u001b[49m\u001b[43m,\u001b[49m\u001b[43m \u001b[49m\u001b[43mx0\u001b[49m\u001b[43m,\u001b[49m\u001b[43m \u001b[49m\u001b[43mreturn_x\u001b[49m\u001b[38;5;241;43m=\u001b[39;49m\u001b[38;5;28;43;01mTrue\u001b[39;49;00m\u001b[43m,\u001b[49m\n\u001b[0;32m    735\u001b[0m \u001b[43m    \u001b[49m\u001b[43msolve_ivp_kwargs\u001b[49m\u001b[38;5;241;43m=\u001b[39;49m\u001b[38;5;28;43mself\u001b[39;49m\u001b[38;5;241;43m.\u001b[39;49m\u001b[43msolve_ivp_kwargs\u001b[49m\u001b[43m,\u001b[49m\u001b[43m \u001b[49m\u001b[43mt_eval\u001b[49m\u001b[38;5;241;43m=\u001b[39;49m\u001b[38;5;28;43mself\u001b[39;49m\u001b[38;5;241;43m.\u001b[39;49m\u001b[43mtimepts\u001b[49m\u001b[43m)\u001b[49m\n\u001b[0;32m    736\u001b[0m \u001b[38;5;28mself\u001b[39m\u001b[38;5;241m.\u001b[39msystem_simulations \u001b[38;5;241m+\u001b[39m\u001b[38;5;241m=\u001b[39m \u001b[38;5;241m1\u001b[39m\n\u001b[0;32m    738\u001b[0m \u001b[38;5;28;01mif\u001b[39;00m \u001b[38;5;28mself\u001b[39m\u001b[38;5;241m.\u001b[39mlog:\n",
      "File \u001b[1;32mc:\\Users\\brokk\\AppData\\Local\\Programs\\Python\\Python311\\Lib\\site-packages\\control\\iosys.py:1885\u001b[0m, in \u001b[0;36minput_output_response\u001b[1;34m(sys, T, U, X0, params, transpose, return_x, squeeze, solve_ivp_kwargs, t_eval, **kwargs)\u001b[0m\n\u001b[0;32m   1881\u001b[0m soln \u001b[38;5;241m=\u001b[39m sp\u001b[38;5;241m.\u001b[39mintegrate\u001b[38;5;241m.\u001b[39msolve_ivp(\n\u001b[0;32m   1882\u001b[0m     ivp_rhs, (T0, Tf), X0, t_eval\u001b[38;5;241m=\u001b[39mt_eval,\n\u001b[0;32m   1883\u001b[0m     vectorized\u001b[38;5;241m=\u001b[39m\u001b[38;5;28;01mFalse\u001b[39;00m, \u001b[38;5;241m*\u001b[39m\u001b[38;5;241m*\u001b[39msolve_ivp_kwargs)\n\u001b[0;32m   1884\u001b[0m \u001b[38;5;28;01mif\u001b[39;00m \u001b[38;5;129;01mnot\u001b[39;00m soln\u001b[38;5;241m.\u001b[39msuccess:\n\u001b[1;32m-> 1885\u001b[0m     \u001b[38;5;28;01mraise\u001b[39;00m \u001b[38;5;167;01mRuntimeError\u001b[39;00m(\u001b[38;5;124m\"\u001b[39m\u001b[38;5;124msolve_ivp failed: \u001b[39m\u001b[38;5;124m\"\u001b[39m \u001b[38;5;241m+\u001b[39m soln\u001b[38;5;241m.\u001b[39mmessage)\n\u001b[0;32m   1887\u001b[0m \u001b[38;5;66;03m# Compute inputs and outputs for each time point\u001b[39;00m\n\u001b[0;32m   1888\u001b[0m u \u001b[38;5;241m=\u001b[39m np\u001b[38;5;241m.\u001b[39mzeros((ninputs, \u001b[38;5;28mlen\u001b[39m(soln\u001b[38;5;241m.\u001b[39mt)))\n",
      "\u001b[1;31mRuntimeError\u001b[0m: solve_ivp failed: Required step size is less than spacing between numbers."
     ]
    }
   ],
   "source": [
    "# Solving the optimal control problem:\n",
    "def cost_function(t, x, u, params={}):\n",
    "    return t\n",
    "\n",
    "mass_rider = 78\n",
    "mass_bike = 8\n",
    "params = {\n",
    "    'm': mass_bike + mass_rider,\n",
    "    'slope': slope,\n",
    "    'g': 9.81,\n",
    "    'my': 0.004,\n",
    "    'b0': 0.091,\n",
    "    'b1': 0.0087,\n",
    "    'Iw': 0.14,\n",
    "    'rw': 0.33,\n",
    "    'Cd': 0.7,\n",
    "    'rho': 1.2,\n",
    "    'A': 0.4,\n",
    "    'eta': 1\n",
    "}\n",
    "\n",
    "x0 = [0, 0.1, 26630]\n",
    "t = np.linspace(0, 1000, 1000, endpoint=True)\n",
    "input_constraint = obc.input_range_constraint(bicycle_system, [0], [600])\n",
    "output_constraint = obc.output_range_constraint(bicycle_system, [0, 0.01, 1], [distance[-1], 50, 26630])\n",
    "initial_guess = np.full((bicycle_system.ninputs, len(t)), 265)\n",
    "ivp_kwargs = {'args': {'params': params}}\n",
    "minimize_options = {'tolerance': 0.01}\n",
    "\n",
    "\n",
    "ocp = obc.OptimalControlProblem(bicycle_system, t, integral_cost=cost_function, initial_guess=initial_guess, minimize_options=minimize_options)"
   ]
  },
  {
   "cell_type": "code",
   "execution_count": null,
   "metadata": {},
   "outputs": [
    {
     "name": "stderr",
     "output_type": "stream",
     "text": [
      "C:\\Users\\brokk\\AppData\\Local\\Temp\\ipykernel_6072\\3132609527.py:51: RuntimeWarning: divide by zero encountered in scalar divide\n",
      "  dv = 1/v * 1/(m + Iw/r**2) * (eta*power - m*g*v*slope[int(t)] - my*m*g*v - b0*v - b1*v**2 - 0.5*Cd*rho*A*v**3)\n",
      "C:\\Users\\brokk\\AppData\\Local\\Temp\\ipykernel_6072\\3132609527.py:51: RuntimeWarning: invalid value encountered in scalar multiply\n",
      "  dv = 1/v * 1/(m + Iw/r**2) * (eta*power - m*g*v*slope[int(t)] - my*m*g*v - b0*v - b1*v**2 - 0.5*Cd*rho*A*v**3)\n"
     ]
    },
    {
     "ename": "RuntimeError",
     "evalue": "solve_ivp failed: Required step size is less than spacing between numbers.",
     "output_type": "error",
     "traceback": [
      "\u001b[1;31m---------------------------------------------------------------------------\u001b[0m",
      "\u001b[1;31mRuntimeError\u001b[0m                              Traceback (most recent call last)",
      "Cell \u001b[1;32mIn[6], line 10\u001b[0m\n\u001b[0;32m      7\u001b[0m output_constraint \u001b[38;5;241m=\u001b[39m obc\u001b[38;5;241m.\u001b[39moutput_range_constraint(bicycle_system, [\u001b[38;5;241m0\u001b[39m, \u001b[38;5;241m1\u001b[39m, \u001b[38;5;241m1\u001b[39m], [distance[\u001b[38;5;241m-\u001b[39m\u001b[38;5;241m1\u001b[39m], \u001b[38;5;241m50\u001b[39m, \u001b[38;5;241m26630\u001b[39m])\n\u001b[0;32m      8\u001b[0m initial_guess \u001b[38;5;241m=\u001b[39m np\u001b[38;5;241m.\u001b[39mfull((bicycle_system\u001b[38;5;241m.\u001b[39mninputs, \u001b[38;5;28mlen\u001b[39m(t)), \u001b[38;5;241m265\u001b[39m)\n\u001b[1;32m---> 10\u001b[0m ocp \u001b[38;5;241m=\u001b[39m \u001b[43mobc\u001b[49m\u001b[38;5;241;43m.\u001b[39;49m\u001b[43msolve_ocp\u001b[49m\u001b[43m(\u001b[49m\u001b[43mbicycle_system\u001b[49m\u001b[43m,\u001b[49m\u001b[43m \u001b[49m\u001b[43mt\u001b[49m\u001b[43m,\u001b[49m\u001b[43m \u001b[49m\u001b[43mx0\u001b[49m\u001b[43m,\u001b[49m\u001b[43m \u001b[49m\u001b[43mcost_function\u001b[49m\u001b[43m,\u001b[49m\u001b[43m \u001b[49m\u001b[43msolve_ivp_method\u001b[49m\u001b[38;5;241;43m=\u001b[39;49m\u001b[38;5;124;43m'\u001b[39;49m\u001b[38;5;124;43mRK45\u001b[39;49m\u001b[38;5;124;43m'\u001b[39;49m\u001b[43m,\u001b[49m\u001b[43m \u001b[49m\u001b[43minitial_guess\u001b[49m\u001b[38;5;241;43m=\u001b[39;49m\u001b[43minitial_guess\u001b[49m\u001b[43m,\u001b[49m\u001b[43m \u001b[49m\u001b[43mprint_summary\u001b[49m\u001b[38;5;241;43m=\u001b[39;49m\u001b[38;5;28;43;01mTrue\u001b[39;49;00m\u001b[43m)\u001b[49m\n",
      "File \u001b[1;32mc:\\Users\\brokk\\AppData\\Local\\Programs\\Python\\Python311\\Lib\\site-packages\\control\\optimal.py:1080\u001b[0m, in \u001b[0;36msolve_ocp\u001b[1;34m(sys, timepts, X0, cost, trajectory_constraints, terminal_cost, terminal_constraints, initial_guess, basis, squeeze, transpose, return_states, print_summary, log, **kwargs)\u001b[0m\n\u001b[0;32m   1077\u001b[0m         kwargs[\u001b[38;5;124m'\u001b[39m\u001b[38;5;124mtrajectory_method\u001b[39m\u001b[38;5;124m'\u001b[39m] \u001b[38;5;241m=\u001b[39m method\n\u001b[0;32m   1079\u001b[0m \u001b[38;5;66;03m# Set up the optimal control problem\u001b[39;00m\n\u001b[1;32m-> 1080\u001b[0m ocp \u001b[38;5;241m=\u001b[39m \u001b[43mOptimalControlProblem\u001b[49m\u001b[43m(\u001b[49m\n\u001b[0;32m   1081\u001b[0m \u001b[43m    \u001b[49m\u001b[43msys\u001b[49m\u001b[43m,\u001b[49m\u001b[43m \u001b[49m\u001b[43mtimepts\u001b[49m\u001b[43m,\u001b[49m\u001b[43m \u001b[49m\u001b[43mcost\u001b[49m\u001b[43m,\u001b[49m\u001b[43m \u001b[49m\u001b[43mtrajectory_constraints\u001b[49m\u001b[38;5;241;43m=\u001b[39;49m\u001b[43mtrajectory_constraints\u001b[49m\u001b[43m,\u001b[49m\n\u001b[0;32m   1082\u001b[0m \u001b[43m    \u001b[49m\u001b[43mterminal_cost\u001b[49m\u001b[38;5;241;43m=\u001b[39;49m\u001b[43mterminal_cost\u001b[49m\u001b[43m,\u001b[49m\u001b[43m \u001b[49m\u001b[43mterminal_constraints\u001b[49m\u001b[38;5;241;43m=\u001b[39;49m\u001b[43mterminal_constraints\u001b[49m\u001b[43m,\u001b[49m\n\u001b[0;32m   1083\u001b[0m \u001b[43m    \u001b[49m\u001b[43minitial_guess\u001b[49m\u001b[38;5;241;43m=\u001b[39;49m\u001b[43minitial_guess\u001b[49m\u001b[43m,\u001b[49m\u001b[43m \u001b[49m\u001b[43mbasis\u001b[49m\u001b[38;5;241;43m=\u001b[39;49m\u001b[43mbasis\u001b[49m\u001b[43m,\u001b[49m\u001b[43m \u001b[49m\u001b[43mlog\u001b[49m\u001b[38;5;241;43m=\u001b[39;49m\u001b[43mlog\u001b[49m\u001b[43m,\u001b[49m\u001b[43m \u001b[49m\u001b[38;5;241;43m*\u001b[39;49m\u001b[38;5;241;43m*\u001b[39;49m\u001b[43mkwargs\u001b[49m\u001b[43m)\u001b[49m\n\u001b[0;32m   1085\u001b[0m \u001b[38;5;66;03m# Solve for the optimal input from the current state\u001b[39;00m\n\u001b[0;32m   1086\u001b[0m \u001b[38;5;28;01mreturn\u001b[39;00m ocp\u001b[38;5;241m.\u001b[39mcompute_trajectory(\n\u001b[0;32m   1087\u001b[0m     X0, squeeze\u001b[38;5;241m=\u001b[39msqueeze, transpose\u001b[38;5;241m=\u001b[39mtranspose, print_summary\u001b[38;5;241m=\u001b[39mprint_summary,\n\u001b[0;32m   1088\u001b[0m     return_states\u001b[38;5;241m=\u001b[39mreturn_states)\n",
      "File \u001b[1;32mc:\\Users\\brokk\\AppData\\Local\\Programs\\Python\\Python311\\Lib\\site-packages\\control\\optimal.py:273\u001b[0m, in \u001b[0;36mOptimalControlProblem.__init__\u001b[1;34m(self, sys, timepts, integral_cost, trajectory_constraints, terminal_cost, terminal_constraints, initial_guess, trajectory_method, basis, log, kwargs_check, **kwargs)\u001b[0m\n\u001b[0;32m    270\u001b[0m \u001b[38;5;28mself\u001b[39m\u001b[38;5;241m.\u001b[39m_reset_statistics(log)\n\u001b[0;32m    272\u001b[0m \u001b[38;5;66;03m# Process the initial guess\u001b[39;00m\n\u001b[1;32m--> 273\u001b[0m \u001b[38;5;28mself\u001b[39m\u001b[38;5;241m.\u001b[39minitial_guess \u001b[38;5;241m=\u001b[39m \u001b[38;5;28;43mself\u001b[39;49m\u001b[38;5;241;43m.\u001b[39;49m\u001b[43m_process_initial_guess\u001b[49m\u001b[43m(\u001b[49m\u001b[43minitial_guess\u001b[49m\u001b[43m)\u001b[49m\n\u001b[0;32m    275\u001b[0m \u001b[38;5;66;03m# Store states, input (used later to minimize re-computation)\u001b[39;00m\n\u001b[0;32m    276\u001b[0m \u001b[38;5;28mself\u001b[39m\u001b[38;5;241m.\u001b[39mlast_x \u001b[38;5;241m=\u001b[39m np\u001b[38;5;241m.\u001b[39mfull(\u001b[38;5;28mself\u001b[39m\u001b[38;5;241m.\u001b[39msystem\u001b[38;5;241m.\u001b[39mnstates, np\u001b[38;5;241m.\u001b[39mnan)\n",
      "File \u001b[1;32mc:\\Users\\brokk\\AppData\\Local\\Programs\\Python\\Python311\\Lib\\site-packages\\control\\optimal.py:571\u001b[0m, in \u001b[0;36mOptimalControlProblem._process_initial_guess\u001b[1;34m(self, initial_guess)\u001b[0m\n\u001b[0;32m    569\u001b[0m     \u001b[38;5;28;01melse\u001b[39;00m:\n\u001b[0;32m    570\u001b[0m         inputs \u001b[38;5;241m=\u001b[39m input_guess\u001b[38;5;241m.\u001b[39mreshape(\u001b[38;5;28mself\u001b[39m\u001b[38;5;241m.\u001b[39msystem\u001b[38;5;241m.\u001b[39mninputs, \u001b[38;5;241m-\u001b[39m\u001b[38;5;241m1\u001b[39m)\n\u001b[1;32m--> 571\u001b[0m     state_guess \u001b[38;5;241m=\u001b[39m \u001b[38;5;28;43mself\u001b[39;49m\u001b[38;5;241;43m.\u001b[39;49m\u001b[43m_simulate_states\u001b[49m\u001b[43m(\u001b[49m\n\u001b[0;32m    572\u001b[0m \u001b[43m        \u001b[49m\u001b[43mnp\u001b[49m\u001b[38;5;241;43m.\u001b[39;49m\u001b[43mzeros\u001b[49m\u001b[43m(\u001b[49m\u001b[38;5;28;43mself\u001b[39;49m\u001b[38;5;241;43m.\u001b[39;49m\u001b[43msystem\u001b[49m\u001b[38;5;241;43m.\u001b[39;49m\u001b[43mnstates\u001b[49m\u001b[43m)\u001b[49m\u001b[43m,\u001b[49m\u001b[43m \u001b[49m\u001b[43minputs\u001b[49m\u001b[43m)\u001b[49m\n\u001b[0;32m    573\u001b[0m \u001b[38;5;28;01melse\u001b[39;00m:\n\u001b[0;32m    574\u001b[0m     state_guess \u001b[38;5;241m=\u001b[39m \u001b[38;5;28mself\u001b[39m\u001b[38;5;241m.\u001b[39m_broadcast_initial_guess(\n\u001b[0;32m    575\u001b[0m         state_guess, (\u001b[38;5;28mself\u001b[39m\u001b[38;5;241m.\u001b[39msystem\u001b[38;5;241m.\u001b[39mnstates, \u001b[38;5;28mself\u001b[39m\u001b[38;5;241m.\u001b[39mtimepts\u001b[38;5;241m.\u001b[39msize))\n",
      "File \u001b[1;32mc:\\Users\\brokk\\AppData\\Local\\Programs\\Python\\Python311\\Lib\\site-packages\\control\\optimal.py:733\u001b[0m, in \u001b[0;36mOptimalControlProblem._simulate_states\u001b[1;34m(self, x0, inputs)\u001b[0m\n\u001b[0;32m    730\u001b[0m     logging\u001b[38;5;241m.\u001b[39mdebug(\u001b[38;5;124m\"\u001b[39m\u001b[38;5;124minput =\u001b[39m\u001b[38;5;130;01m\\n\u001b[39;00m\u001b[38;5;124m\"\u001b[39m \u001b[38;5;241m+\u001b[39m \u001b[38;5;28mstr\u001b[39m(inputs))\n\u001b[0;32m    732\u001b[0m \u001b[38;5;66;03m# Simulate the system to get the state\u001b[39;00m\n\u001b[1;32m--> 733\u001b[0m _, _, states \u001b[38;5;241m=\u001b[39m \u001b[43mct\u001b[49m\u001b[38;5;241;43m.\u001b[39;49m\u001b[43minput_output_response\u001b[49m\u001b[43m(\u001b[49m\n\u001b[0;32m    734\u001b[0m \u001b[43m    \u001b[49m\u001b[38;5;28;43mself\u001b[39;49m\u001b[38;5;241;43m.\u001b[39;49m\u001b[43msystem\u001b[49m\u001b[43m,\u001b[49m\u001b[43m \u001b[49m\u001b[38;5;28;43mself\u001b[39;49m\u001b[38;5;241;43m.\u001b[39;49m\u001b[43mtimepts\u001b[49m\u001b[43m,\u001b[49m\u001b[43m \u001b[49m\u001b[43minputs\u001b[49m\u001b[43m,\u001b[49m\u001b[43m \u001b[49m\u001b[43mx0\u001b[49m\u001b[43m,\u001b[49m\u001b[43m \u001b[49m\u001b[43mreturn_x\u001b[49m\u001b[38;5;241;43m=\u001b[39;49m\u001b[38;5;28;43;01mTrue\u001b[39;49;00m\u001b[43m,\u001b[49m\n\u001b[0;32m    735\u001b[0m \u001b[43m    \u001b[49m\u001b[43msolve_ivp_kwargs\u001b[49m\u001b[38;5;241;43m=\u001b[39;49m\u001b[38;5;28;43mself\u001b[39;49m\u001b[38;5;241;43m.\u001b[39;49m\u001b[43msolve_ivp_kwargs\u001b[49m\u001b[43m,\u001b[49m\u001b[43m \u001b[49m\u001b[43mt_eval\u001b[49m\u001b[38;5;241;43m=\u001b[39;49m\u001b[38;5;28;43mself\u001b[39;49m\u001b[38;5;241;43m.\u001b[39;49m\u001b[43mtimepts\u001b[49m\u001b[43m)\u001b[49m\n\u001b[0;32m    736\u001b[0m \u001b[38;5;28mself\u001b[39m\u001b[38;5;241m.\u001b[39msystem_simulations \u001b[38;5;241m+\u001b[39m\u001b[38;5;241m=\u001b[39m \u001b[38;5;241m1\u001b[39m\n\u001b[0;32m    738\u001b[0m \u001b[38;5;28;01mif\u001b[39;00m \u001b[38;5;28mself\u001b[39m\u001b[38;5;241m.\u001b[39mlog:\n",
      "File \u001b[1;32mc:\\Users\\brokk\\AppData\\Local\\Programs\\Python\\Python311\\Lib\\site-packages\\control\\iosys.py:1885\u001b[0m, in \u001b[0;36minput_output_response\u001b[1;34m(sys, T, U, X0, params, transpose, return_x, squeeze, solve_ivp_kwargs, t_eval, **kwargs)\u001b[0m\n\u001b[0;32m   1881\u001b[0m soln \u001b[38;5;241m=\u001b[39m sp\u001b[38;5;241m.\u001b[39mintegrate\u001b[38;5;241m.\u001b[39msolve_ivp(\n\u001b[0;32m   1882\u001b[0m     ivp_rhs, (T0, Tf), X0, t_eval\u001b[38;5;241m=\u001b[39mt_eval,\n\u001b[0;32m   1883\u001b[0m     vectorized\u001b[38;5;241m=\u001b[39m\u001b[38;5;28;01mFalse\u001b[39;00m, \u001b[38;5;241m*\u001b[39m\u001b[38;5;241m*\u001b[39msolve_ivp_kwargs)\n\u001b[0;32m   1884\u001b[0m \u001b[38;5;28;01mif\u001b[39;00m \u001b[38;5;129;01mnot\u001b[39;00m soln\u001b[38;5;241m.\u001b[39msuccess:\n\u001b[1;32m-> 1885\u001b[0m     \u001b[38;5;28;01mraise\u001b[39;00m \u001b[38;5;167;01mRuntimeError\u001b[39;00m(\u001b[38;5;124m\"\u001b[39m\u001b[38;5;124msolve_ivp failed: \u001b[39m\u001b[38;5;124m\"\u001b[39m \u001b[38;5;241m+\u001b[39m soln\u001b[38;5;241m.\u001b[39mmessage)\n\u001b[0;32m   1887\u001b[0m \u001b[38;5;66;03m# Compute inputs and outputs for each time point\u001b[39;00m\n\u001b[0;32m   1888\u001b[0m u \u001b[38;5;241m=\u001b[39m np\u001b[38;5;241m.\u001b[39mzeros((ninputs, \u001b[38;5;28mlen\u001b[39m(soln\u001b[38;5;241m.\u001b[39mt)))\n",
      "\u001b[1;31mRuntimeError\u001b[0m: solve_ivp failed: Required step size is less than spacing between numbers."
     ]
    }
   ],
   "source": [
    "def cost_function(u, x):\n",
    "    return -x[1]\n",
    "\n",
    "x0 = [0, 0.1, 26630]\n",
    "t = np.linspace(0, 100, 100, endpoint=True)\n",
    "input_constraint = obc.input_range_constraint(bicycle_system, [1], [600])\n",
    "output_constraint = obc.output_range_constraint(bicycle_system, [0, 1, 1], [distance[-1], 50, 26630])\n",
    "initial_guess = np.full((bicycle_system.ninputs, len(t)), 265)\n",
    "\n",
    "ocp = obc.solve_ocp(bicycle_system, t, x0, cost_function, solve_ivp_method='RK45', initial_guess=initial_guess, print_summary=True)"
   ]
  }
 ],
 "metadata": {
  "kernelspec": {
   "display_name": "Python 3",
   "language": "python",
   "name": "python3"
  },
  "language_info": {
   "codemirror_mode": {
    "name": "ipython",
    "version": 3
   },
   "file_extension": ".py",
   "mimetype": "text/x-python",
   "name": "python",
   "nbconvert_exporter": "python",
   "pygments_lexer": "ipython3",
   "version": "3.11.4"
  }
 },
 "nbformat": 4,
 "nbformat_minor": 2
}
