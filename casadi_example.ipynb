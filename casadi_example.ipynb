{
 "cells": [
  {
   "cell_type": "code",
   "execution_count": 25,
   "metadata": {},
   "outputs": [],
   "source": [
    "from casadi import *"
   ]
  },
  {
   "cell_type": "code",
   "execution_count": 26,
   "metadata": {},
   "outputs": [],
   "source": [
    "# Set up the problem\n",
    "N = 100 # number of control intervals\n",
    "opti = Opti() # optimization problem\n",
    "\n",
    "# Declare the decision variables\n",
    "X = opti.variable(2, N+1) # State trajectory\n",
    "pos = X[0,:]\n",
    "speed = X[1,:]\n",
    "U = opti.variable(1,N) # control trajectory (throttle) \n",
    "T = opti.variable() # final time"
   ]
  },
  {
   "cell_type": "code",
   "execution_count": 27,
   "metadata": {},
   "outputs": [],
   "source": [
    "# Set up the objective\n",
    "opti.minimize(T) # race in minimal time\n",
    "\n",
    "# Specify system dynamics\n",
    "def f(x, u):\n",
    "    dx = MX.sym('dx')\n",
    "    dx = [x[1], u- x[1]]\n",
    "    return dx\n",
    "\n",
    "#f = lambda x, u: [x[1], u - x[1]]"
   ]
  },
  {
   "cell_type": "code",
   "execution_count": 28,
   "metadata": {},
   "outputs": [
    {
     "name": "stdout",
     "output_type": "stream",
     "text": [
      "k1 type  <class 'list'> dt type  <class 'casadi.casadi.MX'>\n"
     ]
    },
    {
     "ename": "TypeError",
     "evalue": "can't multiply sequence by non-int of type 'MX'",
     "output_type": "error",
     "traceback": [
      "\u001b[1;31m---------------------------------------------------------------------------\u001b[0m",
      "\u001b[1;31mTypeError\u001b[0m                                 Traceback (most recent call last)",
      "Cell \u001b[1;32mIn[28], line 6\u001b[0m\n\u001b[0;32m      4\u001b[0m k1 \u001b[38;5;241m=\u001b[39m f(X[:,k], U[:,k])\n\u001b[0;32m      5\u001b[0m \u001b[38;5;28mprint\u001b[39m(\u001b[38;5;124m\"\u001b[39m\u001b[38;5;124mk1 type \u001b[39m\u001b[38;5;124m\"\u001b[39m, \u001b[38;5;28mtype\u001b[39m(k1), \u001b[38;5;124m\"\u001b[39m\u001b[38;5;124mdt type \u001b[39m\u001b[38;5;124m\"\u001b[39m, \u001b[38;5;28mtype\u001b[39m(dt))\n\u001b[1;32m----> 6\u001b[0m k2 \u001b[38;5;241m=\u001b[39m f(X[:,k] \u001b[38;5;241m+\u001b[39m \u001b[43mdt\u001b[49m\u001b[38;5;241;43m/\u001b[39;49m\u001b[38;5;241;43m2\u001b[39;49m\u001b[38;5;241;43m*\u001b[39;49m\u001b[43mk1\u001b[49m, U[:,k])\n\u001b[0;32m      7\u001b[0m k3 \u001b[38;5;241m=\u001b[39m f(X[:,k] \u001b[38;5;241m+\u001b[39m dt\u001b[38;5;241m/\u001b[39m\u001b[38;5;241m2\u001b[39m\u001b[38;5;241m*\u001b[39mk2, U[:,k])\n\u001b[0;32m      8\u001b[0m k4 \u001b[38;5;241m=\u001b[39m f(X[:,k] \u001b[38;5;241m+\u001b[39m dt\u001b[38;5;241m*\u001b[39mk3, U[:,k])\n",
      "\u001b[1;31mTypeError\u001b[0m: can't multiply sequence by non-int of type 'MX'"
     ]
    }
   ],
   "source": [
    "dt = T/N # Control interval\n",
    "for k in range(N): # Loop over control intervals\n",
    "    k1 = MX.sym('k1')\n",
    "    k1 = f(X[:,k], U[:,k])\n",
    "    print(\"k1 type \", type(k1), \"dt type \", type(dt))\n",
    "    k2 = f(X[:,k] + dt/2*k1, U[:,k])\n",
    "    k3 = f(X[:,k] + dt/2*k2, U[:,k])\n",
    "    k4 = f(X[:,k] + dt*k3, U[:,k])\n",
    "    x_next = X[:,k] + dt/6*(k1+2*k2+2*k3+k4)\n",
    "    opti.subject_to(X[:,k+1] == x_next)"
   ]
  },
  {
   "cell_type": "code",
   "execution_count": null,
   "metadata": {},
   "outputs": [],
   "source": [
    "import casadi as ca\n",
    "\n",
    "dt = T / N  # length of a control interval\n",
    "\n",
    "for k in range(N):  # loop over control intervals\n",
    "    # Runge-Kutta 4 integration\n",
    "    k1 = f(X[:, k], U[:, k])\n",
    "    k2 = f(X[:, k] + dt / 2 * k1, U[:, k])\n",
    "    k3 = f(X[:, k] + dt / 2 * k2, U[:, k])\n",
    "    k4 = f(X[:, k] + dt * k3, U[:, k])\n",
    "    x_next = X[:, k] + dt / 6 * (k1 + 2 * k2 + 2 * k3 + k4)\n",
    "    opti.subject_to(ca.vertcat(X[:, k + 1]) == x_next)  # close the gaps\n"
   ]
  }
 ],
 "metadata": {
  "kernelspec": {
   "display_name": "Python 3",
   "language": "python",
   "name": "python3"
  },
  "language_info": {
   "codemirror_mode": {
    "name": "ipython",
    "version": 3
   },
   "file_extension": ".py",
   "mimetype": "text/x-python",
   "name": "python",
   "nbconvert_exporter": "python",
   "pygments_lexer": "ipython3",
   "version": "3.11.4"
  }
 },
 "nbformat": 4,
 "nbformat_minor": 2
}
