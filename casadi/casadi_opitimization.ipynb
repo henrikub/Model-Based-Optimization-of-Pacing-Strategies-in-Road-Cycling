{
 "cells": [
  {
   "cell_type": "code",
   "execution_count": 128,
   "metadata": {},
   "outputs": [],
   "source": [
    "from casadi import *"
   ]
  },
  {
   "cell_type": "code",
   "execution_count": 129,
   "metadata": {},
   "outputs": [],
   "source": [
    "# Set up the problem\n",
    "N = 20 # number of control intervals\n",
    "opti = Opti() # optimization problem\n",
    "\n",
    "# Declare the decision variables\n",
    "X = opti.variable(3, N+1) # State trajectory\n",
    "pos = X[0,:]\n",
    "speed = X[1,:]\n",
    "w_bal = X[2, :]\n",
    "U = opti.variable(1,N) # control trajectory (power) \n",
    "T = opti.variable() # final time"
   ]
  },
  {
   "cell_type": "code",
   "execution_count": 130,
   "metadata": {},
   "outputs": [],
   "source": [
    "# Parameters:\n",
    "mass_rider = 78\n",
    "mass_bike = 8\n",
    "m = opti.parameter()\n",
    "opti.set_value(m, mass_rider + mass_bike)\n",
    "g = 9.81\n",
    "my = 0.004\n",
    "b0 = 0.091\n",
    "b1 = 0.0087\n",
    "Iw = 0.14\n",
    "r = 0.33\n",
    "Cd = 0.7\n",
    "rho = 1.2\n",
    "A = 0.4\n",
    "eta = 1\n",
    "w_prime = 26630\n",
    "cp = 265\n",
    "s = 0.01"
   ]
  },
  {
   "cell_type": "code",
   "execution_count": 131,
   "metadata": {},
   "outputs": [],
   "source": [
    "# Set up the objective\n",
    "opti.minimize(T) # race in minimal time\n",
    "\n",
    "# System dynamics (excluding slope/gravity effect)\n",
    "f = lambda x,u: vertcat(x[1], 1/x[1] * 1/(m + Iw/r**2) * (eta*u - my*m*g*x[1] - m*g*s*x[1] - b0*x[1] - b1*x[1]**2 - 0.5*Cd*rho*A*x[1]**3), -(u-cp))"
   ]
  },
  {
   "cell_type": "code",
   "execution_count": 132,
   "metadata": {},
   "outputs": [],
   "source": [
    "dt = T/N # Control interval\n",
    "for k in range(N): # Loop over control intervals\n",
    "    k1 = f(X[:,k], U[:,k])\n",
    "    k2 = f(X[:,k] + dt/2*k1, U[:,k])\n",
    "    k3 = f(X[:,k] + dt/2*k2, U[:,k])\n",
    "    k4 = f(X[:,k] + dt*k3, U[:,k])\n",
    "    x_next = X[:,k] + dt/6*(k1+2*k2+2*k3+k4)\n",
    "    opti.subject_to(X[:,k+1] == x_next)"
   ]
  },
  {
   "cell_type": "code",
   "execution_count": 133,
   "metadata": {},
   "outputs": [],
   "source": [
    "# Set the path constraints\n",
    "# for k in range(N): # Loop over positions\n",
    "#     opti.subject_to(opti.bounded(0,pos[k],1000))\n",
    "\n",
    "#opti.subject_to(opti.bounded(0,pos,1000))\n",
    "# opti.subject_to(speed <= limit(pos)) # track speed limit\n",
    "opti.subject_to(opti.bounded(1,U,500)) # control is limited"
   ]
  },
  {
   "cell_type": "code",
   "execution_count": 134,
   "metadata": {},
   "outputs": [],
   "source": [
    "# Set boundary conditions\n",
    "opti.subject_to(pos[0]==0) # start at position 0\n",
    "opti.subject_to(speed[0]==3) \n",
    "opti.subject_to(pos[-1]==1000)\n",
    "opti.subject_to(w_bal[0]==w_prime)\n",
    "\n",
    "opti.subject_to(speed > 2)\n",
    "\n",
    "# One extra constraint\n",
    "opti.subject_to(T>=0) # time must be positive"
   ]
  },
  {
   "cell_type": "code",
   "execution_count": 135,
   "metadata": {},
   "outputs": [],
   "source": [
    "# Provide an initial guess for the solver\n",
    "# opti.set_initial(T, 300)\n",
    "# opti.set_initial(U, 300)"
   ]
  },
  {
   "cell_type": "code",
   "execution_count": 136,
   "metadata": {},
   "outputs": [
    {
     "data": {
      "text/plain": [
       "Opti(Opti {\n",
       "  instance #11\n",
       "  #variables: 3 (nx = 84)\n",
       "  #parameters: 1 (np = 1)\n",
       "  #constraints: 27 (ng = 106)\n",
       "  CasADi solver needs updating.\n",
       "})"
      ]
     },
     "execution_count": 136,
     "metadata": {},
     "output_type": "execute_result"
    }
   ],
   "source": [
    "opti"
   ]
  },
  {
   "cell_type": "code",
   "execution_count": 137,
   "metadata": {},
   "outputs": [],
   "source": [
    "p_opts = {\"expand\": True, \"print_time\": False}\n",
    "s_opts = {\"print_level\": 3, \n",
    "\t    \"tol\": 5e-1, \n",
    "\t    \"dual_inf_tol\": 5.0, \n",
    "\t    \"constr_viol_tol\": 1e-1,\n",
    "\t    \"compl_inf_tol\": 1e-1, \n",
    "\t    \"acceptable_tol\": 1e-2, \n",
    "\t\t\"acceptable_constr_viol_tol\": 0.01, \n",
    "\t\t\"acceptable_dual_inf_tol\": 1e10,\n",
    "\t\t\"acceptable_compl_inf_tol\": 0.01,\n",
    "\t\t\"acceptable_obj_change_tol\": 1e20,\n",
    "\t\t\"diverging_iterates_tol\": 1e20}\n",
    "\n",
    "opti.solver('ipopt', p_opts, s_opts)"
   ]
  },
  {
   "cell_type": "code",
   "execution_count": 138,
   "metadata": {},
   "outputs": [
    {
     "name": "stdout",
     "output_type": "stream",
     "text": [
      "\n",
      "Number of Iterations....: 0\n",
      "\n",
      "Number of objective function evaluations             = 0\n",
      "Number of objective gradient evaluations             = 0\n",
      "Number of equality constraint evaluations            = 0\n",
      "Number of inequality constraint evaluations          = 1\n",
      "Number of equality constraint Jacobian evaluations   = 0\n",
      "Number of inequality constraint Jacobian evaluations = 0\n",
      "Number of Lagrangian Hessian evaluations             = 0\n",
      "Total seconds in IPOPT                               = 0.001\n",
      "\n",
      "EXIT: Invalid number in NLP function or derivative detected.\n"
     ]
    },
    {
     "name": "stderr",
     "output_type": "stream",
     "text": [
      "CasADi - 2024-02-15 14:21:28 WARNING(\"solver:nlp_jac_g failed: NaN detected for output jac_g_x, at nonzero index 2 (row 0, col 1).\") [.../casadi/core/oracle_function.cpp:377]\n",
      "CasADi - 2024-02-15 14:21:28 WARNING(\"solver:nlp_jac_g failed: NaN detected for output jac_g_x, at nonzero index 2 (row 0, col 1).\") [.../casadi/core/oracle_function.cpp:377]\n",
      "CasADi - 2024-02-15 14:21:28 WARNING(\"solver:nlp_g failed: NaN detected for output g, at (row 0, col 0).\") [.../casadi/core/oracle_function.cpp:377]\n",
      "CasADi - 2024-02-15 14:21:28 WARNING(\"solver:nlp_grad failed: NaN detected for output grad_gamma_p, at (row 0, col 0).\") [.../casadi/core/oracle_function.cpp:377]\n",
      "CasADi - 2024-02-15 14:21:28 WARNING(\"Failed to calculate multipliers\") [.../casadi/core/nlpsol.cpp:798]\n"
     ]
    },
    {
     "ename": "RuntimeError",
     "evalue": "Error in Opti::solve [OptiNode] at .../casadi/core/optistack.cpp:157:\n.../casadi/core/optistack_internal.cpp:996: Assertion \"return_success(accept_limit)\" failed:\nSolver failed. You may use opti.debug.value to investigate the latest values of variables. return_status is 'Invalid_Number_Detected'",
     "output_type": "error",
     "traceback": [
      "\u001b[1;31m---------------------------------------------------------------------------\u001b[0m",
      "\u001b[1;31mRuntimeError\u001b[0m                              Traceback (most recent call last)",
      "\u001b[1;32m~\\AppData\\Local\\Temp\\ipykernel_20496\\387649357.py\u001b[0m in \u001b[0;36m?\u001b[1;34m()\u001b[0m\n\u001b[0;32m      1\u001b[0m \u001b[1;31m# opti.solver('ipopt') # set numerical backend\u001b[0m\u001b[1;33m\u001b[0m\u001b[1;33m\u001b[0m\u001b[0m\n\u001b[1;32m----> 2\u001b[1;33m \u001b[0msol\u001b[0m \u001b[1;33m=\u001b[0m \u001b[0mopti\u001b[0m\u001b[1;33m.\u001b[0m\u001b[0msolve\u001b[0m\u001b[1;33m(\u001b[0m\u001b[1;33m)\u001b[0m \u001b[1;31m# actual solve\u001b[0m\u001b[1;33m\u001b[0m\u001b[1;33m\u001b[0m\u001b[0m\n\u001b[0m",
      "\u001b[1;32mc:\\Users\\brokk\\AppData\\Local\\Programs\\Python\\Python311\\Lib\\site-packages\\casadi\\casadi.py\u001b[0m in \u001b[0;36m?\u001b[1;34m(self, *args)\u001b[0m\n\u001b[0;32m  47856\u001b[0m \u001b[1;33m\u001b[0m\u001b[0m\n\u001b[0;32m  47857\u001b[0m \u001b[1;33m\u001b[0m\u001b[0m\n\u001b[0;32m  47858\u001b[0m \u001b[1;33m\u001b[0m\u001b[0m\n\u001b[0;32m  47859\u001b[0m         \"\"\"\n\u001b[1;32m> 47860\u001b[1;33m         \u001b[1;32mreturn\u001b[0m \u001b[0m_casadi\u001b[0m\u001b[1;33m.\u001b[0m\u001b[0mOpti_solve\u001b[0m\u001b[1;33m(\u001b[0m\u001b[0mself\u001b[0m\u001b[1;33m,\u001b[0m \u001b[1;33m*\u001b[0m\u001b[0margs\u001b[0m\u001b[1;33m)\u001b[0m\u001b[1;33m\u001b[0m\u001b[1;33m\u001b[0m\u001b[0m\n\u001b[0m",
      "\u001b[1;31mRuntimeError\u001b[0m: Error in Opti::solve [OptiNode] at .../casadi/core/optistack.cpp:157:\n.../casadi/core/optistack_internal.cpp:996: Assertion \"return_success(accept_limit)\" failed:\nSolver failed. You may use opti.debug.value to investigate the latest values of variables. return_status is 'Invalid_Number_Detected'"
     ]
    }
   ],
   "source": [
    "# opti.solver('ipopt') # set numerical backend\n",
    "sol = opti.solve() # actual solve"
   ]
  },
  {
   "cell_type": "code",
   "execution_count": 142,
   "metadata": {},
   "outputs": [
    {
     "data": {
      "text/plain": [
       "'Opti constraint of shape 3x1, defined at C:\\\\Users\\\\brokk\\\\AppData\\\\Local\\\\Temp\\\\ipykernel_20496\\\\1419412345.py:8\\nAt nonzero 0.'"
      ]
     },
     "execution_count": 142,
     "metadata": {},
     "output_type": "execute_result"
    }
   ],
   "source": [
    "opti.debug.g_describe(3)"
   ]
  },
  {
   "cell_type": "code",
   "execution_count": null,
   "metadata": {},
   "outputs": [
    {
     "data": {
      "text/plain": [
       "\"Opti decision variable 'opti9_x_1' of shape 3x21, defined at C:\\\\Users\\\\brokk\\\\AppData\\\\Local\\\\Temp\\\\ipykernel_20496\\\\2491851297.py:6\\nAt nonzero 1.\""
      ]
     },
     "execution_count": 114,
     "metadata": {},
     "output_type": "execute_result"
    }
   ],
   "source": [
    "opti.debug.x_describe(1)"
   ]
  },
  {
   "cell_type": "code",
   "execution_count": null,
   "metadata": {},
   "outputs": [],
   "source": [
    "opti.callback(lambda i: plot(opti.debug.value(x))"
   ]
  },
  {
   "cell_type": "code",
   "execution_count": 139,
   "metadata": {},
   "outputs": [
    {
     "data": {
      "text/plain": [
       "<bound method OptiAdvanced.show_infeasibilities of Opti(Opti {\n",
       "  instance #11\n",
       "  #variables: 3 (nx = 84)\n",
       "  #parameters: 1 (np = 1)\n",
       "  #constraints: 27 (ng = 106)\n",
       "  CasADi solver allocated.\n",
       "  CasADi solver was called: Invalid_Number_Detected\n",
       "})>"
      ]
     },
     "execution_count": 139,
     "metadata": {},
     "output_type": "execute_result"
    }
   ],
   "source": [
    "opti.debug.show_infeasibilities"
   ]
  }
 ],
 "metadata": {
  "kernelspec": {
   "display_name": "Python 3",
   "language": "python",
   "name": "python3"
  },
  "language_info": {
   "codemirror_mode": {
    "name": "ipython",
    "version": 3
   },
   "file_extension": ".py",
   "mimetype": "text/x-python",
   "name": "python",
   "nbconvert_exporter": "python",
   "pygments_lexer": "ipython3",
   "version": "3.11.5"
  }
 },
 "nbformat": 4,
 "nbformat_minor": 2
}
