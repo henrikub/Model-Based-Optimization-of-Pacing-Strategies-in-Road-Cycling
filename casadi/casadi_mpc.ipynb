{
 "cells": [
  {
   "cell_type": "code",
   "execution_count": 1,
   "metadata": {},
   "outputs": [],
   "source": [
    "import numpy as np"
   ]
  },
  {
   "cell_type": "code",
   "execution_count": 13,
   "metadata": {},
   "outputs": [],
   "source": [
    "def sigmoid(x, x0, a):\n",
    "    return 1/(1 + np.power(np.e, (-(x-x0)/a)))"
   ]
  },
  {
   "cell_type": "code",
   "execution_count": null,
   "metadata": {},
   "outputs": [],
   "source": [
    "def w_prime_balance_ode(power, cp, w_prime):\n",
    "\n",
    "    last = w_prime\n",
    "    w_prime_balance = []\n",
    "\n",
    "    for p in power:\n",
    "        if p < cp:\n",
    "            new = w_prime - (w_prime - last) * np.power(np.e, -(cp - p)/w_prime)\n",
    "        else:\n",
    "            new = last - (p - cp)\n",
    "\n",
    "        w_prime_balance.append(new)\n",
    "        last = new\n",
    "\n",
    "    return w_prime_balance"
   ]
  }
 ],
 "metadata": {
  "kernelspec": {
   "display_name": "Python 3",
   "language": "python",
   "name": "python3"
  },
  "language_info": {
   "codemirror_mode": {
    "name": "ipython",
    "version": 3
   },
   "file_extension": ".py",
   "mimetype": "text/x-python",
   "name": "python",
   "nbconvert_exporter": "python",
   "pygments_lexer": "ipython3",
   "version": "3.11.5"
  }
 },
 "nbformat": 4,
 "nbformat_minor": 2
}
